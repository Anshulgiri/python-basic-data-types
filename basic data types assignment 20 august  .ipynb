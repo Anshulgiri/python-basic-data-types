{
 "cells": [
  {
   "cell_type": "code",
   "execution_count": 1,
   "id": "5e8d34a8-6993-405b-8a4b-7a7f85a16ef7",
   "metadata": {},
   "outputs": [],
   "source": [
    "#string based problems"
   ]
  },
  {
   "cell_type": "code",
   "execution_count": 2,
   "id": "8bc9488e-6672-484f-b302-ac56d1edc320",
   "metadata": {},
   "outputs": [],
   "source": [
    "s = \"this is my book\""
   ]
  },
  {
   "cell_type": "code",
   "execution_count": 3,
   "id": "7bf9581c-b319-4518-9292-42c04547e0cb",
   "metadata": {},
   "outputs": [
    {
     "data": {
      "text/plain": [
       "'koob ym si siht'"
      ]
     },
     "execution_count": 3,
     "metadata": {},
     "output_type": "execute_result"
    }
   ],
   "source": [
    "s[::-1]"
   ]
  },
  {
   "cell_type": "code",
   "execution_count": null,
   "id": "75bad3bf-4129-4257-8750-02828e707e62",
   "metadata": {},
   "outputs": [],
   "source": []
  },
  {
   "cell_type": "code",
   "execution_count": 2,
   "id": "857cba5f-e61a-4162-a6a3-bcd95af28bf1",
   "metadata": {},
   "outputs": [
    {
     "name": "stdin",
     "output_type": "stream",
     "text": [
      "enter a string \"anshul\"\n"
     ]
    },
    {
     "name": "stdout",
     "output_type": "stream",
     "text": [
      "\"anshul\"is not a palindrome\n"
     ]
    }
   ],
   "source": [
    "n =  input(\"enter a string\")\n",
    "if n==n[::-1]:\n",
    "    print(n+\"is a palindrome\")\n",
    "else:\n",
    "    print(n+\"is not a palindrome\")"
   ]
  },
  {
   "cell_type": "code",
   "execution_count": null,
   "id": "a92dd484-9ba8-4bd3-9fdf-87da30ded074",
   "metadata": {},
   "outputs": [],
   "source": []
  },
  {
   "cell_type": "code",
   "execution_count": 3,
   "id": "f9cf1f0d-bb08-4487-a403-72e35a6ef3f0",
   "metadata": {},
   "outputs": [],
   "source": [
    "s = \"this is my book\""
   ]
  },
  {
   "cell_type": "code",
   "execution_count": 4,
   "id": "3a8b83af-4a62-49cb-8d00-460ba1c0fb4b",
   "metadata": {},
   "outputs": [
    {
     "data": {
      "text/plain": [
       "'THIS IS MY BOOK'"
      ]
     },
     "execution_count": 4,
     "metadata": {},
     "output_type": "execute_result"
    }
   ],
   "source": [
    "s.upper()"
   ]
  },
  {
   "cell_type": "code",
   "execution_count": null,
   "id": "cff72ee2-ec49-4604-ac3f-0695613ae6c3",
   "metadata": {},
   "outputs": [],
   "source": []
  },
  {
   "cell_type": "code",
   "execution_count": 5,
   "id": "29af3db4-615c-4e4a-a99d-a4f7f10d04bd",
   "metadata": {},
   "outputs": [],
   "source": [
    "s = \"ANSHUL GIRI\""
   ]
  },
  {
   "cell_type": "code",
   "execution_count": 6,
   "id": "869546dd-8fb9-419e-b9a2-e327c17a8a5b",
   "metadata": {},
   "outputs": [
    {
     "data": {
      "text/plain": [
       "'anshul giri'"
      ]
     },
     "execution_count": 6,
     "metadata": {},
     "output_type": "execute_result"
    }
   ],
   "source": [
    "s.lower()"
   ]
  },
  {
   "cell_type": "code",
   "execution_count": null,
   "id": "bec186f2-fe8a-4ca1-9642-8637bf3b849a",
   "metadata": {},
   "outputs": [],
   "source": []
  },
  {
   "cell_type": "code",
   "execution_count": 7,
   "id": "e7229b09-6ec0-42fe-8881-69c42b73f81d",
   "metadata": {},
   "outputs": [
    {
     "name": "stdout",
     "output_type": "stream",
     "text": [
      "6\n"
     ]
    }
   ],
   "source": [
    "vowels = ['a','e','i','o','u']\n",
    "string = \"subscribe\"\n",
    "i = 0\n",
    "for letter in string:\n",
    "    if letter in vowels:\n",
    "        pass\n",
    "    else:\n",
    "        i=i+1\n",
    "print(i)        "
   ]
  },
  {
   "cell_type": "code",
   "execution_count": null,
   "id": "4fe4187d-1714-4c02-b104-f7b908892fc4",
   "metadata": {},
   "outputs": [],
   "source": []
  },
  {
   "cell_type": "code",
   "execution_count": 8,
   "id": "30b59627-fe1b-440a-9eaa-d6d514229194",
   "metadata": {},
   "outputs": [],
   "source": [
    "s = \"    anshul     \""
   ]
  },
  {
   "cell_type": "code",
   "execution_count": 9,
   "id": "c29b33f0-b76d-43bb-91ad-de7a93d400ac",
   "metadata": {},
   "outputs": [
    {
     "data": {
      "text/plain": [
       "'anshul'"
      ]
     },
     "execution_count": 9,
     "metadata": {},
     "output_type": "execute_result"
    }
   ],
   "source": [
    "s.strip()"
   ]
  },
  {
   "cell_type": "code",
   "execution_count": null,
   "id": "b8989f62-7993-4ef8-97a0-3af8c45c126c",
   "metadata": {},
   "outputs": [],
   "source": []
  },
  {
   "cell_type": "code",
   "execution_count": 10,
   "id": "0ef587c1-b712-4f49-97e3-b4b95c2499ee",
   "metadata": {},
   "outputs": [
    {
     "name": "stdout",
     "output_type": "stream",
     "text": [
      "19\n"
     ]
    }
   ],
   "source": [
    "str = \"python is very easy\"\n",
    "count=0\n",
    "for i in str:\n",
    "    count+=1\n",
    "print(count)    "
   ]
  },
  {
   "cell_type": "code",
   "execution_count": null,
   "id": "f21663f7-0ac1-4b75-98de-0bb0819466ff",
   "metadata": {},
   "outputs": [],
   "source": []
  },
  {
   "cell_type": "code",
   "execution_count": 11,
   "id": "b20bbe47-a0f0-4610-aae2-54a50818af49",
   "metadata": {},
   "outputs": [],
   "source": [
    "s = \"my name is anshul\""
   ]
  },
  {
   "cell_type": "code",
   "execution_count": 12,
   "id": "66d2063b-6c92-45c8-8c97-f0e7835f91e8",
   "metadata": {},
   "outputs": [
    {
     "data": {
      "text/plain": [
       "'ny nane is anshul'"
      ]
     },
     "execution_count": 12,
     "metadata": {},
     "output_type": "execute_result"
    }
   ],
   "source": [
    "s.replace('m','n')"
   ]
  },
  {
   "cell_type": "code",
   "execution_count": null,
   "id": "ee347931-0721-4de6-9b18-3a9ab3fea279",
   "metadata": {},
   "outputs": [],
   "source": []
  },
  {
   "cell_type": "code",
   "execution_count": 13,
   "id": "0634bb03-654a-45c0-90a5-455fbb3233cf",
   "metadata": {},
   "outputs": [],
   "source": [
    "s = \"this is my book\""
   ]
  },
  {
   "cell_type": "code",
   "execution_count": 14,
   "id": "b7718901-f558-4d9b-bc51-4b75c606d361",
   "metadata": {},
   "outputs": [
    {
     "data": {
      "text/plain": [
       "2"
      ]
     },
     "execution_count": 14,
     "metadata": {},
     "output_type": "execute_result"
    }
   ],
   "source": [
    "s.count('i')"
   ]
  },
  {
   "cell_type": "code",
   "execution_count": null,
   "id": "5e963c3e-b297-4108-ad0c-a745c0372049",
   "metadata": {},
   "outputs": [],
   "source": []
  },
  {
   "cell_type": "code",
   "execution_count": 15,
   "id": "074306d3-ddea-4079-bb27-bb32f1550af1",
   "metadata": {},
   "outputs": [],
   "source": [
    "s = \"this is my book\""
   ]
  },
  {
   "cell_type": "code",
   "execution_count": 16,
   "id": "895dc792-e3c1-4468-8f5e-7994c0149194",
   "metadata": {},
   "outputs": [
    {
     "data": {
      "text/plain": [
       "14"
      ]
     },
     "execution_count": 16,
     "metadata": {},
     "output_type": "execute_result"
    }
   ],
   "source": [
    "s.find('k')"
   ]
  },
  {
   "cell_type": "code",
   "execution_count": null,
   "id": "7f028f4e-9d5f-43e4-b5f8-271b77b4f930",
   "metadata": {},
   "outputs": [],
   "source": []
  },
  {
   "cell_type": "code",
   "execution_count": 17,
   "id": "d2d63076-8992-402a-9371-346d12b1b621",
   "metadata": {},
   "outputs": [],
   "source": [
    "s = \"my name is anshul\""
   ]
  },
  {
   "cell_type": "code",
   "execution_count": 18,
   "id": "327ea6f6-1215-48d5-9566-19aed080222a",
   "metadata": {},
   "outputs": [
    {
     "data": {
      "text/plain": [
       "['my', 'name', 'is', 'anshul']"
      ]
     },
     "execution_count": 18,
     "metadata": {},
     "output_type": "execute_result"
    }
   ],
   "source": [
    "s.split(\" \")"
   ]
  },
  {
   "cell_type": "code",
   "execution_count": null,
   "id": "d7924ae1-5fd6-42e6-ab06-a5662354863f",
   "metadata": {},
   "outputs": [],
   "source": []
  },
  {
   "cell_type": "code",
   "execution_count": 19,
   "id": "4871eb75-10a0-47f7-a788-8a55c6fb02fc",
   "metadata": {},
   "outputs": [],
   "source": [
    " s = \"hello world\""
   ]
  },
  {
   "cell_type": "code",
   "execution_count": 20,
   "id": "92013b77-895f-4b3b-9347-ec8f29fed946",
   "metadata": {},
   "outputs": [
    {
     "data": {
      "text/plain": [
       "'Hello World'"
      ]
     },
     "execution_count": 20,
     "metadata": {},
     "output_type": "execute_result"
    }
   ],
   "source": [
    "s.title()"
   ]
  },
  {
   "cell_type": "code",
   "execution_count": null,
   "id": "53905cfa-4969-4d9e-9f1e-340fbff2a4a0",
   "metadata": {},
   "outputs": [],
   "source": []
  },
  {
   "cell_type": "code",
   "execution_count": 21,
   "id": "1aa66650-eeb3-46f7-8258-33d03809338e",
   "metadata": {},
   "outputs": [],
   "source": [
    "s = \"elephant\""
   ]
  },
  {
   "cell_type": "code",
   "execution_count": 22,
   "id": "208192a7-d124-445f-94c2-c6e19acb6f92",
   "metadata": {},
   "outputs": [
    {
     "data": {
      "text/plain": [
       "'tnahpele'"
      ]
     },
     "execution_count": 22,
     "metadata": {},
     "output_type": "execute_result"
    }
   ],
   "source": [
    "s[::-1]"
   ]
  },
  {
   "cell_type": "code",
   "execution_count": null,
   "id": "c68d1ecf-0bb1-4bbb-91cf-e5da0878428c",
   "metadata": {},
   "outputs": [],
   "source": []
  },
  {
   "cell_type": "code",
   "execution_count": 23,
   "id": "08d6cfc4-8081-493b-ac02-46d18e4a3b28",
   "metadata": {},
   "outputs": [],
   "source": [
    "s = \"anshul\""
   ]
  },
  {
   "cell_type": "code",
   "execution_count": 24,
   "id": "ac68094e-3aa8-4607-a758-39d2a2bef82a",
   "metadata": {},
   "outputs": [
    {
     "data": {
      "text/plain": [
       "True"
      ]
     },
     "execution_count": 24,
     "metadata": {},
     "output_type": "execute_result"
    }
   ],
   "source": [
    "s.isalnum()"
   ]
  },
  {
   "cell_type": "code",
   "execution_count": null,
   "id": "b30f616d-8232-405b-97a9-dfaee6d68f84",
   "metadata": {},
   "outputs": [],
   "source": []
  },
  {
   "cell_type": "code",
   "execution_count": 25,
   "id": "8e318e8d-0908-469e-b3ae-4d57b6384078",
   "metadata": {},
   "outputs": [],
   "source": [
    "s = (\"anshul,5,6,7,8\")"
   ]
  },
  {
   "cell_type": "code",
   "execution_count": 26,
   "id": "4d98dc59-9212-46cf-a466-c03a6695ef2b",
   "metadata": {},
   "outputs": [
    {
     "data": {
      "text/plain": [
       "'5,6,7,8'"
      ]
     },
     "execution_count": 26,
     "metadata": {},
     "output_type": "execute_result"
    }
   ],
   "source": [
    "s[7:67]"
   ]
  },
  {
   "cell_type": "code",
   "execution_count": null,
   "id": "915b2c84-4cb9-4ae9-a828-c466457561a4",
   "metadata": {},
   "outputs": [],
   "source": []
  },
  {
   "cell_type": "code",
   "execution_count": 27,
   "id": "e15c3aa0-63df-4f5a-89a8-acb642f96368",
   "metadata": {},
   "outputs": [],
   "source": [
    "s = (\"anshul,5,6,7,8\")"
   ]
  },
  {
   "cell_type": "code",
   "execution_count": 28,
   "id": "3f8a97c3-ec28-4bb8-8e45-e8a232d09189",
   "metadata": {},
   "outputs": [
    {
     "data": {
      "text/plain": [
       "'anshul'"
      ]
     },
     "execution_count": 28,
     "metadata": {},
     "output_type": "execute_result"
    }
   ],
   "source": [
    "s[0:6]"
   ]
  },
  {
   "cell_type": "code",
   "execution_count": null,
   "id": "cc956b1e-017e-4091-ba29-79539e427f50",
   "metadata": {},
   "outputs": [],
   "source": []
  },
  {
   "cell_type": "code",
   "execution_count": 29,
   "id": "32d3345f-3f9d-4739-8fbb-3aa15aac3daa",
   "metadata": {},
   "outputs": [],
   "source": [
    "s= \"this is my book\""
   ]
  },
  {
   "cell_type": "code",
   "execution_count": 30,
   "id": "781f46ca-6da2-47d0-b61c-dacd5581fb2d",
   "metadata": {},
   "outputs": [
    {
     "data": {
      "text/plain": [
       "'THIS IS MY BOOK'"
      ]
     },
     "execution_count": 30,
     "metadata": {},
     "output_type": "execute_result"
    }
   ],
   "source": [
    "s.swapcase()"
   ]
  },
  {
   "cell_type": "code",
   "execution_count": null,
   "id": "bb4420da-1450-48a1-90b9-6a665cc240d6",
   "metadata": {},
   "outputs": [],
   "source": []
  },
  {
   "cell_type": "code",
   "execution_count": 31,
   "id": "89e13494-cf9f-47ca-b8e8-bbf92005742c",
   "metadata": {},
   "outputs": [],
   "source": [
    "s = \"anshul\""
   ]
  },
  {
   "cell_type": "code",
   "execution_count": 32,
   "id": "4aa14700-336d-43eb-88af-163d3f6895d3",
   "metadata": {},
   "outputs": [
    {
     "name": "stdout",
     "output_type": "stream",
     "text": [
      "nshul\n"
     ]
    }
   ],
   "source": [
    "print(s[1:])"
   ]
  },
  {
   "cell_type": "code",
   "execution_count": null,
   "id": "eccc8c88-e99b-466f-aa20-3b8cff6e2506",
   "metadata": {},
   "outputs": [],
   "source": []
  },
  {
   "cell_type": "code",
   "execution_count": 33,
   "id": "d3d9417e-efbf-4071-ad41-1fdc63e1f044",
   "metadata": {},
   "outputs": [],
   "source": [
    "email = \"anshul@gmail.com\""
   ]
  },
  {
   "cell_type": "code",
   "execution_count": 34,
   "id": "1006fa71-2465-42d7-849f-a5bc63580fa5",
   "metadata": {},
   "outputs": [
    {
     "name": "stdout",
     "output_type": "stream",
     "text": [
      "['anshul', 'gmail.com']\n"
     ]
    }
   ],
   "source": [
    "print(email.split('@'))"
   ]
  },
  {
   "cell_type": "code",
   "execution_count": null,
   "id": "ccc39ad3-1ece-4110-a4cb-9d9d60419c4a",
   "metadata": {},
   "outputs": [],
   "source": []
  },
  {
   "cell_type": "code",
   "execution_count": 35,
   "id": "c3b24cbb-ca15-4894-853d-d0c56dc398cb",
   "metadata": {},
   "outputs": [
    {
     "name": "stdin",
     "output_type": "stream",
     "text": [
      "enter a string aaannnui\n"
     ]
    },
    {
     "name": "stdout",
     "output_type": "stream",
     "text": [
      "a = 3 times\n",
      "a = 3 times\n",
      "a = 3 times\n",
      "n = 3 times\n",
      "n = 3 times\n",
      "n = 3 times\n",
      "u = 1 times\n",
      "i = 1 times\n"
     ]
    }
   ],
   "source": [
    "str = input(\"enter a string\")\n",
    "for i in str:\n",
    "    print(i, '=', str.count(i), 'times')"
   ]
  },
  {
   "cell_type": "code",
   "execution_count": null,
   "id": "c69ce747-5ec8-4717-b122-8c9c7542ddea",
   "metadata": {},
   "outputs": [],
   "source": []
  },
  {
   "cell_type": "code",
   "execution_count": 36,
   "id": "38c695ef-4336-4400-bcb0-c330ec16d364",
   "metadata": {},
   "outputs": [],
   "source": [
    "s = \"this is my book\""
   ]
  },
  {
   "cell_type": "code",
   "execution_count": 37,
   "id": "3b562f62-97af-4f2d-bc59-bfb5dcd4cd7d",
   "metadata": {},
   "outputs": [
    {
     "data": {
      "text/plain": [
       "False"
      ]
     },
     "execution_count": 37,
     "metadata": {},
     "output_type": "execute_result"
    }
   ],
   "source": [
    "s.isalnum()"
   ]
  },
  {
   "cell_type": "code",
   "execution_count": null,
   "id": "298f2400-4da0-4892-88af-fbbaad3d8901",
   "metadata": {},
   "outputs": [],
   "source": []
  },
  {
   "cell_type": "code",
   "execution_count": 38,
   "id": "a46809ac-a72d-4124-880f-b37e5b8fdcde",
   "metadata": {},
   "outputs": [],
   "source": [
    "s = \"anshul\""
   ]
  },
  {
   "cell_type": "code",
   "execution_count": 40,
   "id": "41895eca-8c1f-4326-944b-a885347b59e8",
   "metadata": {},
   "outputs": [
    {
     "data": {
      "text/plain": [
       "False"
      ]
     },
     "execution_count": 40,
     "metadata": {},
     "output_type": "execute_result"
    }
   ],
   "source": [
    "s.isdigit()"
   ]
  },
  {
   "cell_type": "code",
   "execution_count": null,
   "id": "492994c1-6872-470e-b933-a60f64542036",
   "metadata": {},
   "outputs": [],
   "source": []
  },
  {
   "cell_type": "code",
   "execution_count": 41,
   "id": "29c2810c-bf9e-4976-8dd3-daead3d349f5",
   "metadata": {},
   "outputs": [],
   "source": [
    "s = \"anshul\""
   ]
  },
  {
   "cell_type": "code",
   "execution_count": 42,
   "id": "4cc20ec7-8342-42e9-942f-6109ed218494",
   "metadata": {},
   "outputs": [],
   "source": [
    "l = list(s)"
   ]
  },
  {
   "cell_type": "code",
   "execution_count": 43,
   "id": "650a7179-321e-4213-ba09-3668376c7994",
   "metadata": {},
   "outputs": [
    {
     "data": {
      "text/plain": [
       "['a', 'n', 's', 'h', 'u', 'l']"
      ]
     },
     "execution_count": 43,
     "metadata": {},
     "output_type": "execute_result"
    }
   ],
   "source": [
    "l"
   ]
  },
  {
   "cell_type": "code",
   "execution_count": null,
   "id": "69f6860d-2cd4-4b56-9bb6-a5b8c9464744",
   "metadata": {},
   "outputs": [],
   "source": []
  },
  {
   "cell_type": "code",
   "execution_count": 46,
   "id": "57566ad4-99f4-4805-8c82-51235b6bc58a",
   "metadata": {},
   "outputs": [],
   "source": [
    "word1 = \"listen\""
   ]
  },
  {
   "cell_type": "code",
   "execution_count": 47,
   "id": "743b2269-44f9-40d6-b56e-c9edd43fa7bc",
   "metadata": {},
   "outputs": [],
   "source": [
    "word2 = \"silent\""
   ]
  },
  {
   "cell_type": "code",
   "execution_count": 52,
   "id": "e30767ce-efe1-4637-9885-3537afc8b8a4",
   "metadata": {},
   "outputs": [],
   "source": [
    "sorted_word1 =sorted(word1)"
   ]
  },
  {
   "cell_type": "code",
   "execution_count": 53,
   "id": "7cc399bb-a554-4352-8c5c-068fb7251cc3",
   "metadata": {},
   "outputs": [],
   "source": [
    "sorted_word2 =sorted(word2)"
   ]
  },
  {
   "cell_type": "code",
   "execution_count": 54,
   "id": "2af9037f-19fc-4f0c-8264-850e8c00473e",
   "metadata": {},
   "outputs": [
    {
     "name": "stdout",
     "output_type": "stream",
     "text": [
      "the words are anagram\n"
     ]
    }
   ],
   "source": [
    "is_anagram=sorted_word1==sorted_word2\n",
    "if is_anagram:\n",
    "    print(\"the words are anagram\")\n",
    "else:\n",
    "    print(\"the words are not anagram\")"
   ]
  },
  {
   "cell_type": "code",
   "execution_count": null,
   "id": "122dd050-0d4f-4b89-b8ff-599f34187e31",
   "metadata": {},
   "outputs": [],
   "source": []
  },
  {
   "cell_type": "code",
   "execution_count": 55,
   "id": "382d4bfb-8fae-4ee0-a085-a08edc9801d5",
   "metadata": {},
   "outputs": [],
   "source": [
    "s = \"1,2,3,'anshul'\""
   ]
  },
  {
   "cell_type": "code",
   "execution_count": 56,
   "id": "fe051de1-4e08-40cd-aaf9-41a584ffbce2",
   "metadata": {},
   "outputs": [],
   "source": [
    "l=list(s)"
   ]
  },
  {
   "cell_type": "code",
   "execution_count": 57,
   "id": "388bf318-f057-434b-b426-dca1c2302a48",
   "metadata": {},
   "outputs": [
    {
     "data": {
      "text/plain": [
       "['1', ',', '2', ',', '3', ',', \"'\", 'a', 'n', 's', 'h', 'u', 'l', \"'\"]"
      ]
     },
     "execution_count": 57,
     "metadata": {},
     "output_type": "execute_result"
    }
   ],
   "source": [
    "l"
   ]
  },
  {
   "cell_type": "code",
   "execution_count": null,
   "id": "b2c03cac-90e6-4f27-9822-243dc6a41550",
   "metadata": {},
   "outputs": [],
   "source": []
  },
  {
   "cell_type": "code",
   "execution_count": 58,
   "id": "444ca0bc-5908-43f0-8abe-1784e24c3bad",
   "metadata": {},
   "outputs": [],
   "source": [
    "l.insert(9,'giri')"
   ]
  },
  {
   "cell_type": "code",
   "execution_count": 59,
   "id": "549a318b-6802-4bdc-be6b-3cb35f605988",
   "metadata": {},
   "outputs": [
    {
     "data": {
      "text/plain": [
       "['1', ',', '2', ',', '3', ',', \"'\", 'a', 'n', 'giri', 's', 'h', 'u', 'l', \"'\"]"
      ]
     },
     "execution_count": 59,
     "metadata": {},
     "output_type": "execute_result"
    }
   ],
   "source": [
    "l"
   ]
  },
  {
   "cell_type": "code",
   "execution_count": null,
   "id": "cb65bcf9-7846-420b-bd0d-778657e43348",
   "metadata": {},
   "outputs": [],
   "source": []
  },
  {
   "cell_type": "code",
   "execution_count": 60,
   "id": "66aa11f1-f1a7-45ed-b598-22ce0758f326",
   "metadata": {},
   "outputs": [],
   "source": [
    "s=\"anshul,giri,pw,skills\""
   ]
  },
  {
   "cell_type": "code",
   "execution_count": 61,
   "id": "5c29058e-a8eb-4b44-ab33-3c0c2093a12b",
   "metadata": {},
   "outputs": [],
   "source": [
    "l = list(s)"
   ]
  },
  {
   "cell_type": "code",
   "execution_count": 62,
   "id": "3ea54de0-cbdb-4a76-89a6-dab21c8efa31",
   "metadata": {},
   "outputs": [
    {
     "data": {
      "text/plain": [
       "['a',\n",
       " 'n',\n",
       " 's',\n",
       " 'h',\n",
       " 'u',\n",
       " 'l',\n",
       " ',',\n",
       " 'g',\n",
       " 'i',\n",
       " 'r',\n",
       " 'i',\n",
       " ',',\n",
       " 'p',\n",
       " 'w',\n",
       " ',',\n",
       " 's',\n",
       " 'k',\n",
       " 'i',\n",
       " 'l',\n",
       " 'l',\n",
       " 's']"
      ]
     },
     "execution_count": 62,
     "metadata": {},
     "output_type": "execute_result"
    }
   ],
   "source": [
    "l"
   ]
  },
  {
   "cell_type": "code",
   "execution_count": null,
   "id": "186fc4cb-616e-4bb4-bf98-4c72ee7903be",
   "metadata": {},
   "outputs": [],
   "source": []
  },
  {
   "cell_type": "code",
   "execution_count": 63,
   "id": "289ab412-fdf4-43c0-b39c-bfc3a20ebf08",
   "metadata": {},
   "outputs": [],
   "source": [
    "#list based practice problems"
   ]
  },
  {
   "cell_type": "code",
   "execution_count": 64,
   "id": "c9ef6e3b-bb76-49ee-9fbb-d316c97a0d07",
   "metadata": {},
   "outputs": [],
   "source": [
    "l = [1,2,3,4,5,6,7,8,9,10]"
   ]
  },
  {
   "cell_type": "code",
   "execution_count": null,
   "id": "3ff1e05b-5301-4d7d-ac62-d3b599250f3b",
   "metadata": {},
   "outputs": [],
   "source": []
  },
  {
   "cell_type": "code",
   "execution_count": 65,
   "id": "0d1f275e-6f6b-4bf8-b125-c3ce2d51746b",
   "metadata": {},
   "outputs": [
    {
     "name": "stdout",
     "output_type": "stream",
     "text": [
      "5\n"
     ]
    }
   ],
   "source": [
    "l1 = [1,2,3,'anshul','giri']\n",
    "count = 0\n",
    "for i in l1:\n",
    "    count+=1\n",
    "print(count)    "
   ]
  },
  {
   "cell_type": "code",
   "execution_count": null,
   "id": "86d9b1e3-e7c9-4a52-afb9-2d07e07ef80f",
   "metadata": {},
   "outputs": [],
   "source": []
  },
  {
   "cell_type": "code",
   "execution_count": 66,
   "id": "963e8082-84ff-4747-9cb8-9926e05b3309",
   "metadata": {},
   "outputs": [],
   "source": [
    "l2 = [1,2,3,4,'anshul','giri','pw','skills']"
   ]
  },
  {
   "cell_type": "code",
   "execution_count": 67,
   "id": "fdcb302e-886c-4b9d-9421-2391d96798f6",
   "metadata": {},
   "outputs": [],
   "source": [
    "l2.append('ineuron')"
   ]
  },
  {
   "cell_type": "code",
   "execution_count": 68,
   "id": "5baa272f-9577-48ed-8232-dcc0b80955bb",
   "metadata": {},
   "outputs": [
    {
     "data": {
      "text/plain": [
       "[1, 2, 3, 4, 'anshul', 'giri', 'pw', 'skills', 'ineuron']"
      ]
     },
     "execution_count": 68,
     "metadata": {},
     "output_type": "execute_result"
    }
   ],
   "source": [
    "l2"
   ]
  },
  {
   "cell_type": "code",
   "execution_count": null,
   "id": "a256dd8d-9187-46c6-93ca-16f1cd58a9bd",
   "metadata": {},
   "outputs": [],
   "source": []
  },
  {
   "cell_type": "code",
   "execution_count": 69,
   "id": "58b8a742-e977-465d-9a51-645f8c985c55",
   "metadata": {},
   "outputs": [
    {
     "data": {
      "text/plain": [
       "[1, 2, 3, 4, 'anshul', 'giri', 'pw', 'skills', 'ineuron']"
      ]
     },
     "execution_count": 69,
     "metadata": {},
     "output_type": "execute_result"
    }
   ],
   "source": [
    "l2"
   ]
  },
  {
   "cell_type": "code",
   "execution_count": 70,
   "id": "7cb32154-ee34-49c4-8f8b-1659d6fb94fa",
   "metadata": {},
   "outputs": [],
   "source": [
    "l2.insert(2,'g')"
   ]
  },
  {
   "cell_type": "code",
   "execution_count": 71,
   "id": "51d170fe-a2ad-4ad2-92fa-be84ef6dc4d1",
   "metadata": {},
   "outputs": [
    {
     "data": {
      "text/plain": [
       "[1, 2, 'g', 3, 4, 'anshul', 'giri', 'pw', 'skills', 'ineuron']"
      ]
     },
     "execution_count": 71,
     "metadata": {},
     "output_type": "execute_result"
    }
   ],
   "source": [
    "l2"
   ]
  },
  {
   "cell_type": "code",
   "execution_count": null,
   "id": "0099d0e4-9f59-43cf-82c9-5b94a566e7c2",
   "metadata": {},
   "outputs": [],
   "source": []
  },
  {
   "cell_type": "code",
   "execution_count": 72,
   "id": "fa44a608-3469-4d28-b82b-dd355a2e6096",
   "metadata": {},
   "outputs": [],
   "source": [
    "l2.remove(2)"
   ]
  },
  {
   "cell_type": "code",
   "execution_count": 73,
   "id": "79e404c3-e718-45c6-825c-d91dfa0f2e08",
   "metadata": {},
   "outputs": [
    {
     "data": {
      "text/plain": [
       "[1, 'g', 3, 4, 'anshul', 'giri', 'pw', 'skills', 'ineuron']"
      ]
     },
     "execution_count": 73,
     "metadata": {},
     "output_type": "execute_result"
    }
   ],
   "source": [
    "l2"
   ]
  },
  {
   "cell_type": "code",
   "execution_count": null,
   "id": "80edd7cc-fa2c-4eb7-91b0-14c73f32e4bc",
   "metadata": {},
   "outputs": [],
   "source": []
  },
  {
   "cell_type": "code",
   "execution_count": 74,
   "id": "65ec1d93-9c75-468b-9f2c-643feb168d19",
   "metadata": {},
   "outputs": [
    {
     "data": {
      "text/plain": [
       "'g'"
      ]
     },
     "execution_count": 74,
     "metadata": {},
     "output_type": "execute_result"
    }
   ],
   "source": [
    "l2.pop(1)"
   ]
  },
  {
   "cell_type": "code",
   "execution_count": 75,
   "id": "9b0a9e97-4570-408a-bd70-1b76fec6761a",
   "metadata": {},
   "outputs": [
    {
     "data": {
      "text/plain": [
       "[1, 3, 4, 'anshul', 'giri', 'pw', 'skills', 'ineuron']"
      ]
     },
     "execution_count": 75,
     "metadata": {},
     "output_type": "execute_result"
    }
   ],
   "source": [
    "l2"
   ]
  },
  {
   "cell_type": "code",
   "execution_count": null,
   "id": "1312d18a-03c5-46ff-8176-d067c86cd736",
   "metadata": {},
   "outputs": [],
   "source": []
  },
  {
   "cell_type": "code",
   "execution_count": 76,
   "id": "6c6bdd7c-8ba8-4129-8c1d-1996b3d239a5",
   "metadata": {},
   "outputs": [],
   "source": [
    "l3 = [1,2,3,'anshul','green','giri']"
   ]
  },
  {
   "cell_type": "code",
   "execution_count": 77,
   "id": "7bf41d70-02d7-4b19-baa2-2bd2fb4dacdc",
   "metadata": {},
   "outputs": [
    {
     "name": "stdout",
     "output_type": "stream",
     "text": [
      "yes,green is present\n"
     ]
    }
   ],
   "source": [
    "if 'green' in l3:\n",
    "    print(\"yes,green is present\")"
   ]
  },
  {
   "cell_type": "code",
   "execution_count": null,
   "id": "54571ce5-3279-4eb0-8561-dc3a762e2caa",
   "metadata": {},
   "outputs": [],
   "source": []
  },
  {
   "cell_type": "code",
   "execution_count": 78,
   "id": "b35719f5-7e8d-491b-aa82-1c5fa7bcdcc5",
   "metadata": {},
   "outputs": [],
   "source": [
    "l4 = [\"anshul\"]"
   ]
  },
  {
   "cell_type": "code",
   "execution_count": 79,
   "id": "08ff325b-67a7-491d-825c-971b3a265fe0",
   "metadata": {},
   "outputs": [
    {
     "data": {
      "text/plain": [
       "0"
      ]
     },
     "execution_count": 79,
     "metadata": {},
     "output_type": "execute_result"
    }
   ],
   "source": [
    "l4.count('a')"
   ]
  },
  {
   "cell_type": "code",
   "execution_count": null,
   "id": "36307eed-0b84-4d46-9fbc-d2b8bfc1aea2",
   "metadata": {},
   "outputs": [],
   "source": []
  },
  {
   "cell_type": "code",
   "execution_count": 81,
   "id": "823f49ca-9870-490a-b4dd-ebf0e7e3e232",
   "metadata": {},
   "outputs": [
    {
     "name": "stdin",
     "output_type": "stream",
     "text": [
      "enter a list abhinav\n"
     ]
    },
    {
     "name": "stdout",
     "output_type": "stream",
     "text": [
      "a = 2 times\n",
      "b = 1 times\n",
      "h = 1 times\n",
      "i = 1 times\n",
      "n = 1 times\n",
      "a = 2 times\n",
      "v = 1 times\n"
     ]
    }
   ],
   "source": [
    "list = input(\"enter a list\")\n",
    "for i in list:\n",
    "    print(i,'=',list.count(i),'times')"
   ]
  },
  {
   "cell_type": "code",
   "execution_count": null,
   "id": "60a54d62-0857-4b15-8418-60d8e9828cd1",
   "metadata": {},
   "outputs": [],
   "source": []
  },
  {
   "cell_type": "code",
   "execution_count": 82,
   "id": "03afe2e5-5787-4ebd-9e00-5d97a50b2db3",
   "metadata": {},
   "outputs": [
    {
     "data": {
      "text/plain": [
       "[1, 3, 4, 'anshul', 'giri', 'pw', 'skills', 'ineuron']"
      ]
     },
     "execution_count": 82,
     "metadata": {},
     "output_type": "execute_result"
    }
   ],
   "source": [
    "l2"
   ]
  },
  {
   "cell_type": "code",
   "execution_count": 83,
   "id": "85607900-916b-4b5d-9642-5c3e045125b6",
   "metadata": {},
   "outputs": [],
   "source": [
    "l2.reverse()"
   ]
  },
  {
   "cell_type": "code",
   "execution_count": 84,
   "id": "1053bd12-d25a-4ca4-8e87-dcb9f8d6637e",
   "metadata": {},
   "outputs": [
    {
     "data": {
      "text/plain": [
       "['ineuron', 'skills', 'pw', 'giri', 'anshul', 4, 3, 1]"
      ]
     },
     "execution_count": 84,
     "metadata": {},
     "output_type": "execute_result"
    }
   ],
   "source": [
    "l2"
   ]
  },
  {
   "cell_type": "code",
   "execution_count": null,
   "id": "d77f25b0-d3dc-41cb-baad-3fed74dc77d9",
   "metadata": {},
   "outputs": [],
   "source": []
  },
  {
   "cell_type": "code",
   "execution_count": 85,
   "id": "893a85c5-bbbd-4896-b72c-4911fc27c411",
   "metadata": {},
   "outputs": [],
   "source": [
    "l = [2,3,4,2,3,2,45,3]"
   ]
  },
  {
   "cell_type": "code",
   "execution_count": 86,
   "id": "d6bd43d8-aecc-41a5-b6e3-150a7d0a0377",
   "metadata": {},
   "outputs": [],
   "source": [
    "l.sort()"
   ]
  },
  {
   "cell_type": "code",
   "execution_count": 87,
   "id": "53b12053-1863-4c39-8854-50f983880705",
   "metadata": {},
   "outputs": [
    {
     "data": {
      "text/plain": [
       "[2, 2, 2, 3, 3, 3, 4, 45]"
      ]
     },
     "execution_count": 87,
     "metadata": {},
     "output_type": "execute_result"
    }
   ],
   "source": [
    "l"
   ]
  },
  {
   "cell_type": "code",
   "execution_count": null,
   "id": "03726bea-60ff-4630-867d-5ed7602be6d4",
   "metadata": {},
   "outputs": [],
   "source": []
  },
  {
   "cell_type": "code",
   "execution_count": 88,
   "id": "b54ecb71-03ae-45af-a882-82fe491d590c",
   "metadata": {},
   "outputs": [],
   "source": [
    "l1 = [4,3,4,4,3,55,45,67]"
   ]
  },
  {
   "cell_type": "code",
   "execution_count": 92,
   "id": "0b318974-0039-4cc2-ad0f-26adfddf9e7e",
   "metadata": {},
   "outputs": [
    {
     "data": {
      "text/plain": [
       "[67, 45, 55, 3, 4, 4, 3, 4]"
      ]
     },
     "execution_count": 92,
     "metadata": {},
     "output_type": "execute_result"
    }
   ],
   "source": [
    "l1[::-1]"
   ]
  },
  {
   "cell_type": "code",
   "execution_count": null,
   "id": "17a9eb19-c8be-410f-80e0-b9a304856ac3",
   "metadata": {},
   "outputs": [],
   "source": []
  },
  {
   "cell_type": "code",
   "execution_count": 93,
   "id": "1e3569f8-dbf1-48ac-9721-a0c94f8444b1",
   "metadata": {},
   "outputs": [
    {
     "name": "stdout",
     "output_type": "stream",
     "text": [
      "2\n",
      "4\n",
      "6\n",
      "20\n"
     ]
    }
   ],
   "source": [
    "l2 = [2,4,5,3,5,6,3,13,15,20]\n",
    "for i in l2:\n",
    "    if i %2==0:\n",
    "        print(i)"
   ]
  },
  {
   "cell_type": "code",
   "execution_count": null,
   "id": "9afb0439-876e-4f2c-8d1e-1683b5bbcf7a",
   "metadata": {},
   "outputs": [],
   "source": []
  },
  {
   "cell_type": "code",
   "execution_count": 94,
   "id": "3020b640-7af4-4501-a98f-7412cb8fef92",
   "metadata": {},
   "outputs": [
    {
     "name": "stdout",
     "output_type": "stream",
     "text": [
      "3\n",
      "5\n",
      "3\n",
      "45\n",
      "33\n",
      "5\n"
     ]
    }
   ],
   "source": [
    "l3 = [2,3,4,5,6,3,45,33,5]\n",
    "for i in l3:\n",
    "    if i%2!=0:\n",
    "        print(i)"
   ]
  },
  {
   "cell_type": "code",
   "execution_count": null,
   "id": "dce95041-778f-44cb-85b0-ac7c23774719",
   "metadata": {},
   "outputs": [],
   "source": []
  },
  {
   "cell_type": "code",
   "execution_count": 95,
   "id": "775046b8-9c4a-4119-a6ca-ced5d51ca7d0",
   "metadata": {},
   "outputs": [
    {
     "data": {
      "text/plain": [
       "[2, 4, 5, 3, 5, 6, 3, 13, 15, 20]"
      ]
     },
     "execution_count": 95,
     "metadata": {},
     "output_type": "execute_result"
    }
   ],
   "source": [
    "l2 "
   ]
  },
  {
   "cell_type": "code",
   "execution_count": 98,
   "id": "fafcc6d4-4ac1-4056-8724-72cb108a335c",
   "metadata": {},
   "outputs": [
    {
     "name": "stdout",
     "output_type": "stream",
     "text": [
      "sum of l2 is: 76\n"
     ]
    }
   ],
   "source": [
    "l2 = [2,4,5,3,5,6,3,13,15,20]\n",
    "sum=0\n",
    "for i in l2:\n",
    "    sum=sum+i\n",
    "print(\"sum of l2 is:\",sum)    "
   ]
  },
  {
   "cell_type": "code",
   "execution_count": null,
   "id": "0835159b-011c-44b6-8f96-cfcf30d4033e",
   "metadata": {},
   "outputs": [],
   "source": []
  },
  {
   "cell_type": "code",
   "execution_count": 99,
   "id": "f83a607c-38e9-42cc-96cb-c71356841225",
   "metadata": {},
   "outputs": [
    {
     "data": {
      "text/plain": [
       "[2, 4, 5, 3, 5, 6, 3, 13, 15, 20]"
      ]
     },
     "execution_count": 99,
     "metadata": {},
     "output_type": "execute_result"
    }
   ],
   "source": [
    "l2"
   ]
  },
  {
   "cell_type": "code",
   "execution_count": 100,
   "id": "f583ec5d-fc43-4f05-809e-896ffec8de7a",
   "metadata": {},
   "outputs": [
    {
     "name": "stdout",
     "output_type": "stream",
     "text": [
      "20\n"
     ]
    }
   ],
   "source": [
    "print(max(l2))"
   ]
  },
  {
   "cell_type": "code",
   "execution_count": null,
   "id": "c42ae3ab-851c-4ac5-bfaf-3df316cf0117",
   "metadata": {},
   "outputs": [],
   "source": []
  },
  {
   "cell_type": "code",
   "execution_count": 101,
   "id": "39324a02-187c-437e-aaac-b96cb6ca8b2c",
   "metadata": {},
   "outputs": [
    {
     "data": {
      "text/plain": [
       "[2, 4, 5, 3, 5, 6, 3, 13, 15, 20]"
      ]
     },
     "execution_count": 101,
     "metadata": {},
     "output_type": "execute_result"
    }
   ],
   "source": [
    "l2"
   ]
  },
  {
   "cell_type": "code",
   "execution_count": 102,
   "id": "03361015-71a7-4f6d-adad-b2cc19860b7f",
   "metadata": {},
   "outputs": [
    {
     "name": "stdout",
     "output_type": "stream",
     "text": [
      "2\n"
     ]
    }
   ],
   "source": [
    "print(min(l2))"
   ]
  },
  {
   "cell_type": "code",
   "execution_count": null,
   "id": "8a1bb794-9199-473d-a04d-ed2aa888b310",
   "metadata": {},
   "outputs": [],
   "source": []
  },
  {
   "cell_type": "code",
   "execution_count": 105,
   "id": "9be6a177-f969-4e24-9d44-8dd510110ec0",
   "metadata": {},
   "outputs": [
    {
     "name": "stdout",
     "output_type": "stream",
     "text": [
      "[0, 1, 4, 9, 16, 25, 36, 49, 64, 81, 100]\n"
     ]
    }
   ],
   "source": [
    "squares = []\n",
    "for i in range(11):\n",
    "    squares.append(i**2)\n",
    "print([i**2 for i in range(11)])    "
   ]
  },
  {
   "cell_type": "code",
   "execution_count": null,
   "id": "39ba8993-6169-4f68-bcce-b89597183117",
   "metadata": {},
   "outputs": [],
   "source": []
  },
  {
   "cell_type": "code",
   "execution_count": 106,
   "id": "2df424ae-d473-4c7b-9582-9ec26245c5e7",
   "metadata": {},
   "outputs": [
    {
     "name": "stdout",
     "output_type": "stream",
     "text": [
      "\n",
      "Random Number :  5\n",
      "\n",
      "Random Number :  7\n",
      "\n",
      "Random Number :  10\n",
      "\n",
      "Random Number :  10\n",
      "\n",
      "Random Number :  7\n",
      "\n",
      "Random Number :  6\n",
      "\n",
      "Random Number :  10\n",
      "\n",
      "Random Number :  0\n",
      "\n",
      "Random Number :  1\n",
      "\n",
      "Random Number :  0\n"
     ]
    }
   ],
   "source": [
    "import random\n",
    "for i in range(10):\n",
    "    random_number = random.randint(0,10)\n",
    "    print(\"\\nRandom Number : \",random_number)"
   ]
  },
  {
   "cell_type": "code",
   "execution_count": null,
   "id": "589447c8-e766-4722-92b6-ee40d182932e",
   "metadata": {},
   "outputs": [],
   "source": []
  },
  {
   "cell_type": "code",
   "execution_count": 107,
   "id": "b0e7fa10-c9a4-4227-af4c-fba8146b78a7",
   "metadata": {},
   "outputs": [
    {
     "name": "stdout",
     "output_type": "stream",
     "text": [
      "[1, 1, 2, 3, 4, 3, 4, 5, 6, 5, 2]\n"
     ]
    }
   ],
   "source": [
    "list = [1,1,2,3,4,3,4,5,6,5,2]\n",
    "result = []\n",
    "[result.append(item) for item in list if i]\n",
    "print(result)"
   ]
  },
  {
   "cell_type": "code",
   "execution_count": null,
   "id": "b63f67b2-89b9-4f29-91e4-4ca0ada5d630",
   "metadata": {},
   "outputs": [],
   "source": []
  },
  {
   "cell_type": "code",
   "execution_count": 108,
   "id": "70dd4011-064b-4c98-9471-475aad990d5f",
   "metadata": {},
   "outputs": [
    {
     "name": "stdout",
     "output_type": "stream",
     "text": [
      "{32, 1, 2, 3, 4, 5, 22}\n"
     ]
    }
   ],
   "source": [
    "l = [1,2,3,4,32,1,2,3,4,3,5,4,3,22]\n",
    "dup_items = set()\n",
    "uniq_items = []\n",
    "for  x in l:\n",
    "    if x not in dup_items:\n",
    "        uniq_items.append(x)\n",
    "        dup_items.add(x)\n",
    "print(dup_items)        "
   ]
  },
  {
   "cell_type": "code",
   "execution_count": null,
   "id": "cc946d2e-bd54-472d-823b-27746e874963",
   "metadata": {},
   "outputs": [],
   "source": []
  },
  {
   "cell_type": "code",
   "execution_count": 111,
   "id": "a0b06102-1089-4776-aaa4-782ee07dc48f",
   "metadata": {},
   "outputs": [
    {
     "name": "stdout",
     "output_type": "stream",
     "text": [
      "common element is: 1\n",
      "common element is: 6\n"
     ]
    }
   ],
   "source": [
    "list1=[1,2,3,4,5,6]\n",
    "list2=[6,7,8,9,10,1]\n",
    "for x in list1:\n",
    "    for y in list2:\n",
    "        if x==y:\n",
    "            print(\"common element is:\",x)"
   ]
  },
  {
   "cell_type": "code",
   "execution_count": null,
   "id": "4029a1c3-e344-499c-9b35-3722c939fa14",
   "metadata": {},
   "outputs": [],
   "source": []
  },
  {
   "cell_type": "code",
   "execution_count": 112,
   "id": "878da700-56d2-42dd-b152-3a2e6338321b",
   "metadata": {},
   "outputs": [],
   "source": [
    "l1=[1,2,3,4,5]"
   ]
  },
  {
   "cell_type": "code",
   "execution_count": 113,
   "id": "499eadbd-f0e7-478a-83ad-c8899083974a",
   "metadata": {},
   "outputs": [],
   "source": [
    "l2=[6,7,8,9,10]"
   ]
  },
  {
   "cell_type": "code",
   "execution_count": 114,
   "id": "eb801d36-f3ed-4920-a0c1-c2dbaaba00fb",
   "metadata": {},
   "outputs": [
    {
     "data": {
      "text/plain": [
       "[1, 2, 3, 4, 5, 6, 7, 8, 9, 10]"
      ]
     },
     "execution_count": 114,
     "metadata": {},
     "output_type": "execute_result"
    }
   ],
   "source": [
    "l1+l2"
   ]
  },
  {
   "cell_type": "code",
   "execution_count": null,
   "id": "454be447-6953-49bb-9df5-3b4d11db606a",
   "metadata": {},
   "outputs": [],
   "source": []
  },
  {
   "cell_type": "code",
   "execution_count": 115,
   "id": "650753d8-7a5c-474c-9aff-4df1fe10d371",
   "metadata": {},
   "outputs": [],
   "source": [
    "l=[2,3,5,7,9]"
   ]
  },
  {
   "cell_type": "code",
   "execution_count": 116,
   "id": "cfdc3bbe-ebe5-4094-8606-ff5a7b501273",
   "metadata": {},
   "outputs": [
    {
     "data": {
      "text/plain": [
       "[2, 3, 5, 7, 9, 2, 3, 5, 7, 9]"
      ]
     },
     "execution_count": 116,
     "metadata": {},
     "output_type": "execute_result"
    }
   ],
   "source": [
    "l*2"
   ]
  },
  {
   "cell_type": "code",
   "execution_count": null,
   "id": "ee5d4a14-9052-49bb-a8be-129409df663f",
   "metadata": {},
   "outputs": [],
   "source": []
  },
  {
   "cell_type": "code",
   "execution_count": 117,
   "id": "3389bd11-17c4-4d76-a791-6581c4076e41",
   "metadata": {},
   "outputs": [
    {
     "name": "stdout",
     "output_type": "stream",
     "text": [
      "[2, 4, 6, 8, 10]\n"
     ]
    }
   ],
   "source": [
    "def ev_nu(number):\n",
    "    ev_li = []\n",
    "    for num in number:\n",
    "        if num%2==0:\n",
    "            ev_li.append(num)\n",
    "    return ev_li\n",
    "number = [1,2,3,4,55,6,7,8,9,10]\n",
    "print(ev_nu(number))"
   ]
  },
  {
   "cell_type": "code",
   "execution_count": null,
   "id": "d536ce1e-7a50-4094-85b8-227081bbb021",
   "metadata": {},
   "outputs": [],
   "source": []
  },
  {
   "cell_type": "code",
   "execution_count": 136,
   "id": "22d69fe6-9e15-45d3-8618-20fddc22d855",
   "metadata": {},
   "outputs": [],
   "source": [
    "l =[[1,3,5], [44,5,6], [3,2,4]]"
   ]
  },
  {
   "cell_type": "code",
   "execution_count": 137,
   "id": "f5d4b456-12c8-4b5c-8699-fae12c1dd205",
   "metadata": {},
   "outputs": [
    {
     "data": {
      "text/plain": [
       "[[1, 3, 5], [44, 5, 6], [3, 2, 4]]"
      ]
     },
     "execution_count": 137,
     "metadata": {},
     "output_type": "execute_result"
    }
   ],
   "source": [
    "l"
   ]
  },
  {
   "cell_type": "code",
   "execution_count": null,
   "id": "12b80d42-c7b3-4ae4-80ec-c90172e68f3d",
   "metadata": {},
   "outputs": [],
   "source": []
  },
  {
   "cell_type": "code",
   "execution_count": 144,
   "id": "a0339860-addb-4e02-8120-b4e023c35e38",
   "metadata": {},
   "outputs": [
    {
     "name": "stdout",
     "output_type": "stream",
     "text": [
      "0\n",
      "1\n"
     ]
    },
    {
     "name": "stdin",
     "output_type": "stream",
     "text": [
      "upto which element: 10\n"
     ]
    },
    {
     "name": "stdout",
     "output_type": "stream",
     "text": [
      "1\n",
      "2\n",
      "3\n",
      "5\n",
      "8\n",
      "13\n",
      "21\n",
      "34\n",
      "55\n"
     ]
    }
   ],
   "source": [
    "first=0\n",
    "second=1\n",
    "print(first)\n",
    "print(second)\n",
    "N=int(input('upto which element:'))\n",
    "\n",
    "for a in range(1,N):\n",
    "    third = first+second\n",
    "    print(third)\n",
    "    first,second=second,third"
   ]
  },
  {
   "cell_type": "code",
   "execution_count": null,
   "id": "74387439-912b-433e-bdbd-760caa01504f",
   "metadata": {},
   "outputs": [],
   "source": []
  },
  {
   "cell_type": "code",
   "execution_count": 145,
   "id": "ef81e76c-ff37-4cf4-bf44-8c41045f7fbf",
   "metadata": {},
   "outputs": [
    {
     "name": "stdout",
     "output_type": "stream",
     "text": [
      "not sorted\n"
     ]
    }
   ],
   "source": [
    "L = [1,2,3,2,4,5]\n",
    "flag = 0\n",
    "for i in range(0,len(L)-1):\n",
    "    if L[1] >= L[i+1]:\n",
    "        flag = 1\n",
    "        break \n",
    "if flag == 0:\n",
    "    print(\"sorted\")\n",
    "else:\n",
    "    print(\"not sorted\")"
   ]
  },
  {
   "cell_type": "code",
   "execution_count": null,
   "id": "fbe75566-3039-4fc2-b2ef-b2a7feb8ec03",
   "metadata": {},
   "outputs": [],
   "source": []
  },
  {
   "cell_type": "code",
   "execution_count": 147,
   "id": "073ddc8f-70d5-46e7-93b0-b69dc485f7de",
   "metadata": {},
   "outputs": [
    {
     "name": "stdout",
     "output_type": "stream",
     "text": [
      "[[1, 2, 3], [4, 5, 6], [7, 8, 9], [10]]\n"
     ]
    }
   ],
   "source": [
    "l =[1,2,3,4,5,6,7,8,9,10]\n",
    "n=3\n",
    "s=[l[i:i+n] for i in range(0,len(l),n)]\n",
    "print(s)"
   ]
  },
  {
   "cell_type": "code",
   "execution_count": null,
   "id": "a42c6f9d-e683-45e1-8c2d-01d7862bfca8",
   "metadata": {},
   "outputs": [],
   "source": []
  },
  {
   "cell_type": "code",
   "execution_count": 148,
   "id": "40d4d219-e591-45e6-8676-a87e33680e21",
   "metadata": {},
   "outputs": [],
   "source": [
    "l1 = [10,20,45,4,99]"
   ]
  },
  {
   "cell_type": "code",
   "execution_count": 149,
   "id": "c4d95eec-8503-43b5-b1b2-1cc7c722c4c3",
   "metadata": {},
   "outputs": [
    {
     "name": "stdout",
     "output_type": "stream",
     "text": [
      "second largest element is: 45\n"
     ]
    }
   ],
   "source": [
    "l1.sort()\n",
    "element = l1[-2]\n",
    "print(\"second largest element is:\", element)"
   ]
  },
  {
   "cell_type": "code",
   "execution_count": null,
   "id": "1206792c-eba3-4e53-a3b0-a5b92a94d0ce",
   "metadata": {},
   "outputs": [],
   "source": []
  },
  {
   "cell_type": "code",
   "execution_count": 150,
   "id": "1cdf67d0-fadd-4b6a-bb2b-6b29d46c52eb",
   "metadata": {},
   "outputs": [
    {
     "name": "stdout",
     "output_type": "stream",
     "text": [
      "[1, 4, 9, 16, 25]\n"
     ]
    }
   ],
   "source": [
    "l1 = [1,2,3,4,5]\n",
    "l2=[]\n",
    "for i in l1:\n",
    "    l2.append(i**2)\n",
    "print(l2)    "
   ]
  },
  {
   "cell_type": "code",
   "execution_count": null,
   "id": "c2fb83ba-2c68-41cb-b6a1-180ffa0e200a",
   "metadata": {},
   "outputs": [],
   "source": []
  },
  {
   "cell_type": "code",
   "execution_count": 152,
   "id": "84c12c4d-e579-415b-9b56-c2c5ddc35c2b",
   "metadata": {},
   "outputs": [
    {
     "name": "stdout",
     "output_type": "stream",
     "text": [
      "[1, 5, 3, 4, 2]\n"
     ]
    }
   ],
   "source": [
    "import random\n",
    "l= [1,2,3,4,5]\n",
    "random.shuffle(l)\n",
    "print(l)"
   ]
  },
  {
   "cell_type": "code",
   "execution_count": null,
   "id": "b297ac9a-4125-488b-afdb-b1660252a766",
   "metadata": {},
   "outputs": [],
   "source": []
  },
  {
   "cell_type": "code",
   "execution_count": 153,
   "id": "b080115f-262f-4242-84d8-7e5b58721605",
   "metadata": {},
   "outputs": [
    {
     "name": "stdin",
     "output_type": "stream",
     "text": [
      "enter the no.: 10\n"
     ]
    },
    {
     "name": "stdout",
     "output_type": "stream",
     "text": [
      "3628800\n"
     ]
    }
   ],
   "source": [
    "n = int(input(\"enter the no.:\"))\n",
    "factorial = 1 \n",
    "for i in range(1,n+1):\n",
    "    factorial = factorial*i\n",
    "print(factorial)"
   ]
  },
  {
   "cell_type": "code",
   "execution_count": null,
   "id": "75ed157d-9c1a-4fdc-b3ad-3ab1b886958a",
   "metadata": {},
   "outputs": [],
   "source": []
  },
  {
   "cell_type": "code",
   "execution_count": 154,
   "id": "13b90e6c-adc6-45f5-9cc4-190f2c11845e",
   "metadata": {},
   "outputs": [
    {
     "name": "stdout",
     "output_type": "stream",
     "text": [
      "common element is: 2\n"
     ]
    }
   ],
   "source": [
    "list1 = [1,2,3,4,5,6]\n",
    "list2 = [7,8,9,2,10]\n",
    "for x in list1:\n",
    "    for y in list2:\n",
    "        if x==y:\n",
    "            print(\"common element is:\",x)"
   ]
  },
  {
   "cell_type": "code",
   "execution_count": null,
   "id": "860ea477-35b4-4f7a-a4ce-43b5d9a94d2d",
   "metadata": {},
   "outputs": [],
   "source": []
  },
  {
   "cell_type": "code",
   "execution_count": 155,
   "id": "841f8ae0-4a8b-4573-aaa0-664a78666c03",
   "metadata": {},
   "outputs": [],
   "source": [
    "l = [1,2,3,4,5,6]"
   ]
  },
  {
   "cell_type": "code",
   "execution_count": 156,
   "id": "1a5e7dc5-a824-4906-8bb4-6da91af414a3",
   "metadata": {},
   "outputs": [],
   "source": [
    "l.clear()"
   ]
  },
  {
   "cell_type": "code",
   "execution_count": 157,
   "id": "4290f180-21ae-4e82-adc7-dfdf543f8720",
   "metadata": {},
   "outputs": [
    {
     "data": {
      "text/plain": [
       "[]"
      ]
     },
     "execution_count": 157,
     "metadata": {},
     "output_type": "execute_result"
    }
   ],
   "source": [
    "l"
   ]
  },
  {
   "cell_type": "code",
   "execution_count": null,
   "id": "d1db9fda-2d2e-4e11-885f-1da9a803d4ea",
   "metadata": {},
   "outputs": [],
   "source": []
  },
  {
   "cell_type": "code",
   "execution_count": 163,
   "id": "7a443629-9489-4e23-8650-096abbccd787",
   "metadata": {},
   "outputs": [],
   "source": [
    "list = ['the','united','state','of','america']"
   ]
  },
  {
   "cell_type": "code",
   "execution_count": 164,
   "id": "73482e0e-97a3-4537-848d-6420eabb494f",
   "metadata": {},
   "outputs": [
    {
     "name": "stdout",
     "output_type": "stream",
     "text": [
      "['the', 'united', 'state', 'of', 'america']\n"
     ]
    }
   ],
   "source": [
    "print(list)"
   ]
  },
  {
   "cell_type": "code",
   "execution_count": 165,
   "id": "a9aca3ea-6e22-4d84-9132-b57a0aa13aaa",
   "metadata": {},
   "outputs": [
    {
     "name": "stdout",
     "output_type": "stream",
     "text": [
      "the united state of america\n"
     ]
    }
   ],
   "source": [
    "string = ' '.join(list)\n",
    "print(string)"
   ]
  },
  {
   "cell_type": "code",
   "execution_count": null,
   "id": "7e39c35e-07f0-4c06-b5b5-69f9d6a1bf1b",
   "metadata": {},
   "outputs": [],
   "source": []
  },
  {
   "cell_type": "code",
   "execution_count": 166,
   "id": "67215304-5835-4a76-9f91-bcd144626fb0",
   "metadata": {},
   "outputs": [
    {
     "name": "stdin",
     "output_type": "stream",
     "text": [
      "enter a input: 2\n",
      "enter a power 5\n"
     ]
    },
    {
     "name": "stdout",
     "output_type": "stream",
     "text": [
      "32\n"
     ]
    }
   ],
   "source": [
    "num = int(input(\"enter a input:\"))\n",
    "power = int(input(\"enter a power\"))\n",
    "print(num**power)"
   ]
  },
  {
   "cell_type": "code",
   "execution_count": null,
   "id": "5cde26bf-5912-4f2a-8f38-62730d0b8f62",
   "metadata": {},
   "outputs": [],
   "source": []
  },
  {
   "cell_type": "code",
   "execution_count": 168,
   "id": "5f0acce4-3efb-41ec-865d-46ddf60be19b",
   "metadata": {},
   "outputs": [
    {
     "name": "stdout",
     "output_type": "stream",
     "text": [
      "largest number is :  python\n"
     ]
    }
   ],
   "source": [
    "list = [\"i\",\"like\",\"python\"]\n",
    "print(\"largest number is : \",max(list))"
   ]
  },
  {
   "cell_type": "code",
   "execution_count": null,
   "id": "6a85a6c0-3d98-479c-b5ae-f2d0e9c5637d",
   "metadata": {},
   "outputs": [],
   "source": []
  },
  {
   "cell_type": "code",
   "execution_count": 169,
   "id": "de0e6d3e-b405-496c-b6d4-3c7f5bd397a2",
   "metadata": {},
   "outputs": [
    {
     "name": "stdout",
     "output_type": "stream",
     "text": [
      "smallest number is :  i\n"
     ]
    }
   ],
   "source": [
    "list = [\"i\",\"like\",\"python\"]\n",
    "print(\"smallest number is : \",min(list))"
   ]
  },
  {
   "cell_type": "code",
   "execution_count": null,
   "id": "51ee12ec-5c44-492d-9682-011942f06922",
   "metadata": {},
   "outputs": [],
   "source": []
  },
  {
   "cell_type": "code",
   "execution_count": 171,
   "id": "2246726e-41cc-4f00-b1d2-015adb91484f",
   "metadata": {},
   "outputs": [
    {
     "name": "stdout",
     "output_type": "stream",
     "text": [
      "1 0\n",
      "2 1\n",
      "3 3\n",
      "4 6\n",
      "5 10\n",
      "6 15\n",
      "7 21\n",
      "8 28\n",
      "9 36\n",
      "10 45\n"
     ]
    }
   ],
   "source": [
    "sum = 0 \n",
    "for i in range(0,10):\n",
    "    sum += i\n",
    "    print(f\"{i+1} {sum}\")"
   ]
  },
  {
   "cell_type": "code",
   "execution_count": null,
   "id": "b8b57dd8-f7ec-42aa-88a1-072c8c189ad7",
   "metadata": {},
   "outputs": [],
   "source": []
  },
  {
   "cell_type": "code",
   "execution_count": 172,
   "id": "111fe3f3-6262-43fe-b174-516010a667e0",
   "metadata": {},
   "outputs": [
    {
     "name": "stdout",
     "output_type": "stream",
     "text": [
      "sublist is present in list\n"
     ]
    }
   ],
   "source": [
    "list = ['a', 'x', [1,3,4,5,'hemant']]\n",
    "for i in list:\n",
    "    if len(i)>1:\n",
    "        print(\"sublist is present in list\")\n",
    "        break\n",
    "else:\n",
    "    print(\"sublist is not present in list\")"
   ]
  },
  {
   "cell_type": "code",
   "execution_count": null,
   "id": "dbf6f5de-fd60-4067-bf47-e77ed41f9be3",
   "metadata": {},
   "outputs": [],
   "source": []
  },
  {
   "cell_type": "code",
   "execution_count": 174,
   "id": "31ed994b-1324-42a1-9cb1-c8d04d3f42db",
   "metadata": {},
   "outputs": [
    {
     "name": "stdout",
     "output_type": "stream",
     "text": [
      "[56, 12, 14, 16, 1]\n"
     ]
    }
   ],
   "source": [
    "a= [1,12,14,16,56]\n",
    "for i in range(1):\n",
    "    a[0],a[-1]=a[-1],a[0]\n",
    "print(a)    "
   ]
  },
  {
   "cell_type": "code",
   "execution_count": null,
   "id": "36a8327c-d2bc-4da0-8b6b-413f61433344",
   "metadata": {},
   "outputs": [],
   "source": []
  },
  {
   "cell_type": "code",
   "execution_count": 175,
   "id": "287c2917-b5c0-4548-af95-40d3b8de4a53",
   "metadata": {},
   "outputs": [],
   "source": [
    "#tuple based problem "
   ]
  },
  {
   "cell_type": "code",
   "execution_count": 176,
   "id": "734c730d-5231-4f48-aae8-097088781c60",
   "metadata": {},
   "outputs": [],
   "source": [
    "t = (1,2,3,4,5)"
   ]
  },
  {
   "cell_type": "code",
   "execution_count": 177,
   "id": "5ecfbf7d-e762-49b6-a6e0-43144013b15a",
   "metadata": {},
   "outputs": [
    {
     "data": {
      "text/plain": [
       "3"
      ]
     },
     "execution_count": 177,
     "metadata": {},
     "output_type": "execute_result"
    }
   ],
   "source": [
    "t[2]"
   ]
  },
  {
   "cell_type": "code",
   "execution_count": null,
   "id": "f49af69b-5df3-416c-839c-5a67e3050477",
   "metadata": {},
   "outputs": [],
   "source": []
  },
  {
   "cell_type": "code",
   "execution_count": 178,
   "id": "b5f42ec8-4340-46c4-ac78-b0deb21722f2",
   "metadata": {},
   "outputs": [
    {
     "name": "stdout",
     "output_type": "stream",
     "text": [
      "length:  7\n"
     ]
    }
   ],
   "source": [
    "t = (1,2,3,4,5,6,7)\n",
    "l=0\n",
    "for i in t:\n",
    "    l += 1\n",
    "print(\"length: \",l)"
   ]
  },
  {
   "cell_type": "code",
   "execution_count": null,
   "id": "2eb1112e-1a5f-4918-86f1-74ab9d953417",
   "metadata": {},
   "outputs": [],
   "source": []
  },
  {
   "cell_type": "code",
   "execution_count": 179,
   "id": "9ef11560-cd03-451a-9f5d-96534b2b2581",
   "metadata": {},
   "outputs": [],
   "source": [
    "t = (1,2,3,4,5,6,7,4,3,3,2)"
   ]
  },
  {
   "cell_type": "code",
   "execution_count": 180,
   "id": "39ee8cdf-8912-4917-a3de-5343bcd1d7d2",
   "metadata": {},
   "outputs": [
    {
     "data": {
      "text/plain": [
       "2"
      ]
     },
     "execution_count": 180,
     "metadata": {},
     "output_type": "execute_result"
    }
   ],
   "source": [
    "t.count(2)"
   ]
  },
  {
   "cell_type": "code",
   "execution_count": null,
   "id": "b22f3260-00d7-49cc-a10c-5b97244e2b74",
   "metadata": {},
   "outputs": [],
   "source": []
  },
  {
   "cell_type": "code",
   "execution_count": 181,
   "id": "95c33674-8907-47c0-8a41-5cf51aed82e7",
   "metadata": {},
   "outputs": [
    {
     "data": {
      "text/plain": [
       "(1, 2, 3, 4, 5, 6, 7, 4, 3, 3, 2)"
      ]
     },
     "execution_count": 181,
     "metadata": {},
     "output_type": "execute_result"
    }
   ],
   "source": [
    "t"
   ]
  },
  {
   "cell_type": "code",
   "execution_count": 182,
   "id": "74f9cc80-4384-4209-8ec8-aae5d3bab134",
   "metadata": {},
   "outputs": [
    {
     "data": {
      "text/plain": [
       "0"
      ]
     },
     "execution_count": 182,
     "metadata": {},
     "output_type": "execute_result"
    }
   ],
   "source": [
    "t.index(1)"
   ]
  },
  {
   "cell_type": "code",
   "execution_count": null,
   "id": "edcd4b7c-1be6-43d4-b512-03bf09d7cd6f",
   "metadata": {},
   "outputs": [],
   "source": []
  },
  {
   "cell_type": "code",
   "execution_count": 186,
   "id": "7b66a454-35df-4a00-aa3c-18fd7d5a6453",
   "metadata": {},
   "outputs": [
    {
     "name": "stdout",
     "output_type": "stream",
     "text": [
      "True\n"
     ]
    }
   ],
   "source": [
    "t = (\"t\", 3, \"s\", \"o\")\n",
    "print(\"t\" in t)"
   ]
  },
  {
   "cell_type": "code",
   "execution_count": null,
   "id": "0437fbb4-2cff-4b13-9a4b-7c6d75a66295",
   "metadata": {},
   "outputs": [],
   "source": []
  },
  {
   "cell_type": "code",
   "execution_count": 195,
   "id": "fe1f70c5-5598-41b2-9622-38bcb43ff13b",
   "metadata": {},
   "outputs": [],
   "source": [
    "l = [1,2,3]"
   ]
  },
  {
   "cell_type": "code",
   "execution_count": 196,
   "id": "a80051a4-b188-4020-9aec-8da4f82490d6",
   "metadata": {},
   "outputs": [
    {
     "name": "stdout",
     "output_type": "stream",
     "text": [
      "(1, 2, 3)\n"
     ]
    }
   ],
   "source": [
    "tuple(l)\n",
    "print(t)"
   ]
  },
  {
   "cell_type": "code",
   "execution_count": null,
   "id": "46bcd2c6-d2e7-47fb-af33-b528ec2350f3",
   "metadata": {},
   "outputs": [],
   "source": []
  },
  {
   "cell_type": "code",
   "execution_count": 197,
   "id": "bbfb1ec8-269b-4754-bb1e-5a15f9d02b38",
   "metadata": {},
   "outputs": [
    {
     "name": "stdout",
     "output_type": "stream",
     "text": [
      "1\n",
      "2\n",
      "3\n"
     ]
    }
   ],
   "source": [
    "t=1,2,3\n",
    "a,b,c = t \n",
    "print(a)\n",
    "print(b)\n",
    "print(c)"
   ]
  },
  {
   "cell_type": "code",
   "execution_count": null,
   "id": "2bdd57ce-342b-4f08-b43b-809acd1f3781",
   "metadata": {},
   "outputs": [],
   "source": []
  },
  {
   "cell_type": "code",
   "execution_count": 198,
   "id": "78a3f410-cfb4-4ad6-9de2-d7c26f8dc344",
   "metadata": {},
   "outputs": [
    {
     "name": "stdout",
     "output_type": "stream",
     "text": [
      "(2, 4, 6, 8, 10)\n"
     ]
    }
   ],
   "source": [
    "num = (1,2,3,4,5,6,7,8,9,10)\n",
    "print(tuple(filter(lambda x : x%2 ==0,num)))"
   ]
  },
  {
   "cell_type": "code",
   "execution_count": null,
   "id": "3b78f7f5-343c-4719-9b1f-2b4d574d3418",
   "metadata": {},
   "outputs": [],
   "source": []
  },
  {
   "cell_type": "code",
   "execution_count": 199,
   "id": "a08a4d57-b517-47ec-ad06-cb32e58cdc2e",
   "metadata": {},
   "outputs": [
    {
     "name": "stdout",
     "output_type": "stream",
     "text": [
      "(1, 3, 5, 7, 9)\n"
     ]
    }
   ],
   "source": [
    "num = (1,2,3,4,5,6,7,8,9,10)\n",
    "print(tuple(filter(lambda x: x%2 !=0,num)))"
   ]
  },
  {
   "cell_type": "code",
   "execution_count": null,
   "id": "b922c91b-5ba4-4b03-9283-fd8c8f36517d",
   "metadata": {},
   "outputs": [],
   "source": []
  },
  {
   "cell_type": "code",
   "execution_count": 200,
   "id": "a8ec9a29-58ff-40c7-8cd9-6e0d56c2edbe",
   "metadata": {},
   "outputs": [],
   "source": [
    "t1 = (1,2,3,4,5,6)"
   ]
  },
  {
   "cell_type": "code",
   "execution_count": 201,
   "id": "0422334b-237a-453c-ab0f-b0474f71101b",
   "metadata": {},
   "outputs": [],
   "source": [
    "t2 = (2,3,4,5,6,75,8)"
   ]
  },
  {
   "cell_type": "code",
   "execution_count": 202,
   "id": "98c5f8d6-de16-41a2-80f9-8e0ce755efb9",
   "metadata": {},
   "outputs": [
    {
     "data": {
      "text/plain": [
       "(1, 2, 3, 4, 5, 6, 2, 3, 4, 5, 6, 75, 8)"
      ]
     },
     "execution_count": 202,
     "metadata": {},
     "output_type": "execute_result"
    }
   ],
   "source": [
    "t1+t2"
   ]
  },
  {
   "cell_type": "code",
   "execution_count": null,
   "id": "8966c528-f379-4185-9d7b-9530cf14661b",
   "metadata": {},
   "outputs": [],
   "source": []
  },
  {
   "cell_type": "code",
   "execution_count": 203,
   "id": "fdd05fb4-330a-4c1f-a60a-95d5c2eb180d",
   "metadata": {},
   "outputs": [
    {
     "data": {
      "text/plain": [
       "(1, 2, 3, 4, 5, 6)"
      ]
     },
     "execution_count": 203,
     "metadata": {},
     "output_type": "execute_result"
    }
   ],
   "source": [
    "t1"
   ]
  },
  {
   "cell_type": "code",
   "execution_count": 204,
   "id": "87824a2d-30d4-4dfa-8f35-430407b26620",
   "metadata": {},
   "outputs": [
    {
     "data": {
      "text/plain": [
       "(1, 2, 3, 4, 5, 6, 1, 2, 3, 4, 5, 6, 1, 2, 3, 4, 5, 6)"
      ]
     },
     "execution_count": 204,
     "metadata": {},
     "output_type": "execute_result"
    }
   ],
   "source": [
    "t1*3"
   ]
  },
  {
   "cell_type": "code",
   "execution_count": null,
   "id": "031d83c6-f6e1-41f4-bd64-79a7f09268ae",
   "metadata": {},
   "outputs": [],
   "source": []
  },
  {
   "cell_type": "code",
   "execution_count": 205,
   "id": "da41dba9-4889-47fd-ac0d-85a541990bf9",
   "metadata": {},
   "outputs": [
    {
     "name": "stdout",
     "output_type": "stream",
     "text": [
      "the tuple collection contains: (1, 2, 3, 4, 5, 6)\n"
     ]
    }
   ],
   "source": [
    "if bool(t1):\n",
    "    print(\"the tuple collection contains:\",t1)\n",
    "else:\n",
    "    print(\"the tuple is empty\")"
   ]
  },
  {
   "cell_type": "code",
   "execution_count": null,
   "id": "e9181fe3-58d7-4639-9aeb-863d1807c595",
   "metadata": {},
   "outputs": [],
   "source": []
  },
  {
   "cell_type": "code",
   "execution_count": 206,
   "id": "2fc9f9dd-cf73-42c5-8da0-1dd94a567bf1",
   "metadata": {},
   "outputs": [],
   "source": [
    "a = (10,20,30,(40,50))"
   ]
  },
  {
   "cell_type": "code",
   "execution_count": 207,
   "id": "1671645a-164f-42ec-8216-daef65a46b8a",
   "metadata": {},
   "outputs": [
    {
     "name": "stdout",
     "output_type": "stream",
     "text": [
      "10\n"
     ]
    }
   ],
   "source": [
    "print(a[0])"
   ]
  },
  {
   "cell_type": "code",
   "execution_count": null,
   "id": "1dc8c46c-87c1-4752-adf8-496d9d62b4e6",
   "metadata": {},
   "outputs": [],
   "source": []
  },
  {
   "cell_type": "code",
   "execution_count": 2,
   "id": "8411d4d0-b9a6-4b02-96dc-e9da6de7035e",
   "metadata": {},
   "outputs": [],
   "source": [
    "t5 = ('hello',)"
   ]
  },
  {
   "cell_type": "code",
   "execution_count": 3,
   "id": "f1d3d6fa-ef6d-492b-8cf5-ebc7702d8d8b",
   "metadata": {},
   "outputs": [
    {
     "name": "stdout",
     "output_type": "stream",
     "text": [
      "('hello',)\n",
      "<class 'tuple'>\n"
     ]
    }
   ],
   "source": [
    "print(t5)\n",
    "print(type(t5))"
   ]
  },
  {
   "cell_type": "code",
   "execution_count": null,
   "id": "7c25fa7a-748c-4022-a93b-8984ead90367",
   "metadata": {},
   "outputs": [],
   "source": []
  },
  {
   "cell_type": "code",
   "execution_count": 5,
   "id": "f28d22e1-cdef-425d-8412-08d3910d1039",
   "metadata": {},
   "outputs": [],
   "source": [
    "t = (1,2,3)"
   ]
  },
  {
   "cell_type": "code",
   "execution_count": 6,
   "id": "c5993fe1-8866-4f2e-8bb7-5eb294dd1f2d",
   "metadata": {},
   "outputs": [],
   "source": [
    "del t"
   ]
  },
  {
   "cell_type": "code",
   "execution_count": 7,
   "id": "711ddaf2-fd6a-4456-81c9-2d8a0331405d",
   "metadata": {},
   "outputs": [
    {
     "ename": "NameError",
     "evalue": "name 't' is not defined",
     "output_type": "error",
     "traceback": [
      "\u001b[0;31m---------------------------------------------------------------------------\u001b[0m",
      "\u001b[0;31mNameError\u001b[0m                                 Traceback (most recent call last)",
      "Cell \u001b[0;32mIn[7], line 1\u001b[0m\n\u001b[0;32m----> 1\u001b[0m \u001b[43mt\u001b[49m\n",
      "\u001b[0;31mNameError\u001b[0m: name 't' is not defined"
     ]
    }
   ],
   "source": [
    "t"
   ]
  },
  {
   "cell_type": "code",
   "execution_count": null,
   "id": "c1725bfb-cd4d-4879-8b47-84812c2c9002",
   "metadata": {},
   "outputs": [],
   "source": []
  },
  {
   "cell_type": "code",
   "execution_count": 9,
   "id": "6492376d-e94b-41eb-b0b9-ca79faeff9f6",
   "metadata": {},
   "outputs": [],
   "source": [
    "t6=(2,3,4,5,6,7,8)"
   ]
  },
  {
   "cell_type": "code",
   "execution_count": 10,
   "id": "92cfbd54-3708-4c53-9c12-fe1d5a72b498",
   "metadata": {},
   "outputs": [
    {
     "data": {
      "text/plain": [
       "(6, 7, 8)"
      ]
     },
     "execution_count": 10,
     "metadata": {},
     "output_type": "execute_result"
    }
   ],
   "source": [
    "t6[4::]"
   ]
  },
  {
   "cell_type": "code",
   "execution_count": null,
   "id": "85b65007-f864-4134-8812-d4eb5df8615e",
   "metadata": {},
   "outputs": [],
   "source": []
  },
  {
   "cell_type": "code",
   "execution_count": 11,
   "id": "757c81ea-6053-4251-aeb3-d38634873f85",
   "metadata": {},
   "outputs": [
    {
     "data": {
      "text/plain": [
       "(2, 3, 4, 5, 6, 7, 8)"
      ]
     },
     "execution_count": 11,
     "metadata": {},
     "output_type": "execute_result"
    }
   ],
   "source": [
    "t6"
   ]
  },
  {
   "cell_type": "code",
   "execution_count": 13,
   "id": "a2a2d0a1-f590-426a-b933-9e801e499314",
   "metadata": {},
   "outputs": [
    {
     "name": "stdout",
     "output_type": "stream",
     "text": [
      "8\n"
     ]
    }
   ],
   "source": [
    "print(max(t6))"
   ]
  },
  {
   "cell_type": "code",
   "execution_count": null,
   "id": "5b6bfc4b-ed69-4f89-8d87-7aa06ece3139",
   "metadata": {},
   "outputs": [],
   "source": []
  },
  {
   "cell_type": "code",
   "execution_count": 14,
   "id": "ef068ea0-6e5b-462d-b512-fde7bec0cdc8",
   "metadata": {},
   "outputs": [
    {
     "name": "stdout",
     "output_type": "stream",
     "text": [
      "2\n"
     ]
    }
   ],
   "source": [
    "print(min(t6))"
   ]
  },
  {
   "cell_type": "code",
   "execution_count": null,
   "id": "c1d63478-4ea4-4a03-9d15-eb83173c4a2d",
   "metadata": {},
   "outputs": [],
   "source": []
  },
  {
   "cell_type": "code",
   "execution_count": 15,
   "id": "8394f57f-7e76-4d43-b522-30c769c046db",
   "metadata": {},
   "outputs": [],
   "source": [
    "str = \"my name is anshul\""
   ]
  },
  {
   "cell_type": "code",
   "execution_count": 17,
   "id": "a217e219-48f3-41fb-acf6-5336f9c6b9bc",
   "metadata": {},
   "outputs": [],
   "source": [
    "tup = tuple(str)"
   ]
  },
  {
   "cell_type": "code",
   "execution_count": 18,
   "id": "4f898263-92de-46f3-abc8-ccdda8566f7b",
   "metadata": {},
   "outputs": [
    {
     "data": {
      "text/plain": [
       "('m',\n",
       " 'y',\n",
       " ' ',\n",
       " 'n',\n",
       " 'a',\n",
       " 'm',\n",
       " 'e',\n",
       " ' ',\n",
       " 'i',\n",
       " 's',\n",
       " ' ',\n",
       " 'a',\n",
       " 'n',\n",
       " 's',\n",
       " 'h',\n",
       " 'u',\n",
       " 'l')"
      ]
     },
     "execution_count": 18,
     "metadata": {},
     "output_type": "execute_result"
    }
   ],
   "source": [
    "tup"
   ]
  },
  {
   "cell_type": "code",
   "execution_count": null,
   "id": "f4055c09-196d-4765-a48d-eda7c815cf34",
   "metadata": {},
   "outputs": [],
   "source": []
  },
  {
   "cell_type": "code",
   "execution_count": 19,
   "id": "4baf5700-b1cc-47e0-a1d8-833a692dd2c0",
   "metadata": {},
   "outputs": [],
   "source": [
    "t = (\"hi\" , \"friends\")"
   ]
  },
  {
   "cell_type": "code",
   "execution_count": 20,
   "id": "409d071e-a71a-4f49-a86d-4174adab9da6",
   "metadata": {},
   "outputs": [],
   "source": [
    "s= \" \".join(t)"
   ]
  },
  {
   "cell_type": "code",
   "execution_count": 21,
   "id": "b54fc55b-0a42-4f9d-8e36-3422f8ffc4c0",
   "metadata": {},
   "outputs": [
    {
     "data": {
      "text/plain": [
       "'hi friends'"
      ]
     },
     "execution_count": 21,
     "metadata": {},
     "output_type": "execute_result"
    }
   ],
   "source": [
    "s"
   ]
  },
  {
   "cell_type": "code",
   "execution_count": null,
   "id": "b252d881-4591-4a0e-8aed-fd48ac372b45",
   "metadata": {},
   "outputs": [],
   "source": []
  },
  {
   "cell_type": "code",
   "execution_count": 22,
   "id": "001682a3-69bb-4487-b32e-868b37427593",
   "metadata": {},
   "outputs": [],
   "source": [
    "t8 = (3,2,6,57,32,4,6,3,2)"
   ]
  },
  {
   "cell_type": "code",
   "execution_count": 23,
   "id": "bc7fb60c-0b55-46e2-9284-d3426b7816e2",
   "metadata": {},
   "outputs": [
    {
     "data": {
      "text/plain": [
       "(2, 2, 3, 3, 4, 6, 6, 32, 57)"
      ]
     },
     "execution_count": 23,
     "metadata": {},
     "output_type": "execute_result"
    }
   ],
   "source": [
    "tuple(sorted(t8))"
   ]
  },
  {
   "cell_type": "code",
   "execution_count": null,
   "id": "e0908215-5032-46b7-b537-b429fef0d88b",
   "metadata": {},
   "outputs": [],
   "source": []
  },
  {
   "cell_type": "code",
   "execution_count": 24,
   "id": "8ec1580f-82b7-4021-bac3-a26e5f76854d",
   "metadata": {},
   "outputs": [],
   "source": [
    "tup = \"1\",\"4\",\"7\",\"8\",\"9\""
   ]
  },
  {
   "cell_type": "code",
   "execution_count": 25,
   "id": "303410e9-7dec-47a6-b518-986b225ba9c4",
   "metadata": {},
   "outputs": [
    {
     "name": "stdout",
     "output_type": "stream",
     "text": [
      "14789\n"
     ]
    }
   ],
   "source": [
    "str = ''.join(tup)\n",
    "print(str)"
   ]
  },
  {
   "cell_type": "code",
   "execution_count": null,
   "id": "8544ed09-8a8c-415e-9448-ad84217d83a1",
   "metadata": {},
   "outputs": [],
   "source": []
  },
  {
   "cell_type": "code",
   "execution_count": 26,
   "id": "1ef1a646-9331-4f2c-b8cf-cabf19b738c4",
   "metadata": {},
   "outputs": [],
   "source": [
    "a =(3,4,5)\n",
    "b =(6,7,8)\n",
    "c = (7,8,9)"
   ]
  },
  {
   "cell_type": "code",
   "execution_count": 27,
   "id": "e784184b-9967-44aa-b107-74b42ec10ba9",
   "metadata": {},
   "outputs": [],
   "source": [
    "combination = (*a, *b, *c)"
   ]
  },
  {
   "cell_type": "code",
   "execution_count": 28,
   "id": "1f898e44-2e5c-41a2-be06-224145270212",
   "metadata": {},
   "outputs": [
    {
     "name": "stdout",
     "output_type": "stream",
     "text": [
      "(3, 4, 5, 6, 7, 8, 7, 8, 9)\n"
     ]
    }
   ],
   "source": [
    "print(combination)"
   ]
  },
  {
   "cell_type": "code",
   "execution_count": null,
   "id": "896ca132-6709-4c38-9dec-af1687de39e1",
   "metadata": {},
   "outputs": [],
   "source": []
  },
  {
   "cell_type": "code",
   "execution_count": 29,
   "id": "7e8c79e3-bf68-4d92-9b9d-d7b9b7aaa018",
   "metadata": {},
   "outputs": [],
   "source": [
    "def is_palindrome(t):\n",
    "    return t==t[::-1]"
   ]
  },
  {
   "cell_type": "code",
   "execution_count": 30,
   "id": "fe4df144-0eb8-4fa3-8bfa-ddb3dde4c04d",
   "metadata": {},
   "outputs": [
    {
     "data": {
      "text/plain": [
       "False"
      ]
     },
     "execution_count": 30,
     "metadata": {},
     "output_type": "execute_result"
    }
   ],
   "source": [
    "is_palindrome(\"anshul\")"
   ]
  },
  {
   "cell_type": "code",
   "execution_count": null,
   "id": "ef177a5a-2521-49fe-9250-a2484073b93a",
   "metadata": {},
   "outputs": [],
   "source": []
  },
  {
   "cell_type": "code",
   "execution_count": 31,
   "id": "18301ec1-604a-4f1e-bd30-91296c4063b5",
   "metadata": {},
   "outputs": [
    {
     "data": {
      "text/plain": [
       "(2, 3, 4, 5, 6, 7, 8)"
      ]
     },
     "execution_count": 31,
     "metadata": {},
     "output_type": "execute_result"
    }
   ],
   "source": [
    "t6"
   ]
  },
  {
   "cell_type": "code",
   "execution_count": 32,
   "id": "545e6c0b-9c02-430f-9d0c-e439133ee637",
   "metadata": {},
   "outputs": [
    {
     "data": {
      "text/plain": [
       "(2, 3, 4, 5, 6, 7, 8, 2, 3, 4, 5, 6, 7, 8)"
      ]
     },
     "execution_count": 32,
     "metadata": {},
     "output_type": "execute_result"
    }
   ],
   "source": [
    "t6*2"
   ]
  },
  {
   "cell_type": "code",
   "execution_count": null,
   "id": "e2ad1605-2dd7-4537-8647-f9fce5269ae9",
   "metadata": {},
   "outputs": [],
   "source": []
  },
  {
   "cell_type": "code",
   "execution_count": 34,
   "id": "fd9e42e5-2b77-4b01-8eea-de5f81824962",
   "metadata": {},
   "outputs": [],
   "source": [
    "my_string = \"hello world!\""
   ]
  },
  {
   "cell_type": "code",
   "execution_count": 35,
   "id": "31fe5729-4d9a-42f7-bf33-50cef6435801",
   "metadata": {},
   "outputs": [],
   "source": [
    "tuple_of_charecters = tuple(my_string)"
   ]
  },
  {
   "cell_type": "code",
   "execution_count": 36,
   "id": "5247a3c8-25ca-4926-afc6-c7fb27f2955c",
   "metadata": {},
   "outputs": [
    {
     "name": "stdout",
     "output_type": "stream",
     "text": [
      "('h', 'e', 'l', 'l', 'o', ' ', 'w', 'o', 'r', 'l', 'd', '!')\n"
     ]
    }
   ],
   "source": [
    "print(tuple_of_charecters)"
   ]
  },
  {
   "cell_type": "code",
   "execution_count": null,
   "id": "8353c661-8f53-4af9-8769-619d8b18955f",
   "metadata": {},
   "outputs": [],
   "source": []
  },
  {
   "cell_type": "code",
   "execution_count": 37,
   "id": "39b1b754-218d-40e7-bc90-e823c38f9778",
   "metadata": {},
   "outputs": [],
   "source": [
    "tuple_of_charecters = ('H', 'e', 'l', 'l', 'o', ' ' 'w', 'o', 'r', 'l', 'd', '!')"
   ]
  },
  {
   "cell_type": "code",
   "execution_count": 39,
   "id": "a8296e91-df4a-47c0-8489-3539fc7dc276",
   "metadata": {},
   "outputs": [
    {
     "name": "stdout",
     "output_type": "stream",
     "text": [
      "Hello world!\n"
     ]
    }
   ],
   "source": [
    "string_from_tuple = ''.join(tuple_of_charecters)\n",
    "print(string_from_tuple)"
   ]
  },
  {
   "cell_type": "code",
   "execution_count": null,
   "id": "ba8b5134-9ed0-4fa2-8765-32da0b663114",
   "metadata": {},
   "outputs": [],
   "source": []
  },
  {
   "cell_type": "code",
   "execution_count": 40,
   "id": "7d992da5-91c4-4691-8133-2fffe8e2d69b",
   "metadata": {},
   "outputs": [
    {
     "name": "stdout",
     "output_type": "stream",
     "text": [
      "(2, 'anshul', 4.56, False)\n"
     ]
    }
   ],
   "source": [
    "mixed_tuple = (2,'anshul', 4.56, False)\n",
    "print(mixed_tuple)"
   ]
  },
  {
   "cell_type": "code",
   "execution_count": null,
   "id": "4ea2123f-0e1a-4ad6-960b-7c5fee921ea1",
   "metadata": {},
   "outputs": [],
   "source": []
  },
  {
   "cell_type": "code",
   "execution_count": 41,
   "id": "fa416124-1369-4c59-9cc8-6f4a8128c9c1",
   "metadata": {},
   "outputs": [
    {
     "name": "stdout",
     "output_type": "stream",
     "text": [
      "tuple1 and tuple2 are identical\n"
     ]
    }
   ],
   "source": [
    "tuple1 = (2,3,4)\n",
    "tuple2 = (2,3,4)\n",
    "tuple3 = (7,8,9)\n",
    "are_identical1 = tuple1==tuple2\n",
    "are_identical2 = tuple1==tuple3\n",
    "print(\"tuple1 and tuple2 are identical\")"
   ]
  },
  {
   "cell_type": "code",
   "execution_count": null,
   "id": "bda9a1c2-409d-4563-8608-96de1b6466b7",
   "metadata": {},
   "outputs": [],
   "source": []
  },
  {
   "cell_type": "code",
   "execution_count": 42,
   "id": "1f10040a-e508-4cdd-b64e-1885c8731bf5",
   "metadata": {},
   "outputs": [],
   "source": [
    "my_tuple = (6,3,6,2,5,8,9)"
   ]
  },
  {
   "cell_type": "code",
   "execution_count": 43,
   "id": "8c0eeb16-d8e9-4bdf-bde6-8c6e78e1f4be",
   "metadata": {},
   "outputs": [
    {
     "name": "stdout",
     "output_type": "stream",
     "text": [
      "(2, 3, 5, 6, 6, 8, 9)\n"
     ]
    }
   ],
   "source": [
    "sorted_tuple = tuple(sorted(my_tuple))\n",
    "print(sorted_tuple)"
   ]
  },
  {
   "cell_type": "code",
   "execution_count": null,
   "id": "3e97f2a9-4298-4450-8f0d-1520c5561d60",
   "metadata": {},
   "outputs": [],
   "source": []
  },
  {
   "cell_type": "code",
   "execution_count": 48,
   "id": "c8720a5f-f445-46a9-840b-b863abc977c4",
   "metadata": {},
   "outputs": [],
   "source": [
    "tuple_of_strings = ('1', '2', '5', '8')"
   ]
  },
  {
   "cell_type": "code",
   "execution_count": 49,
   "id": "8f25274b-ff76-4d6e-a3fa-9491194883d9",
   "metadata": {},
   "outputs": [],
   "source": [
    "tuple_of_integers = tuple(int(item) for item in tuple_of_strings)"
   ]
  },
  {
   "cell_type": "code",
   "execution_count": 50,
   "id": "6912e7d1-a867-4ad0-9bd2-4fb054a03493",
   "metadata": {},
   "outputs": [
    {
     "name": "stdout",
     "output_type": "stream",
     "text": [
      "(1, 2, 5, 8)\n"
     ]
    }
   ],
   "source": [
    "print(tuple_of_integers)"
   ]
  },
  {
   "cell_type": "code",
   "execution_count": null,
   "id": "713b47d7-7516-414d-8bb2-d0c001fb2cda",
   "metadata": {},
   "outputs": [],
   "source": []
  },
  {
   "cell_type": "code",
   "execution_count": 51,
   "id": "4e970cf1-9d6d-41f2-a6e9-8a22cc8cac2a",
   "metadata": {},
   "outputs": [],
   "source": [
    "tuple1 = (1,2,3)"
   ]
  },
  {
   "cell_type": "code",
   "execution_count": 52,
   "id": "f878089f-edfb-46b0-9557-877639d402d1",
   "metadata": {},
   "outputs": [],
   "source": [
    "tuple2 = (5,6,7)"
   ]
  },
  {
   "cell_type": "code",
   "execution_count": 53,
   "id": "8b8e8391-75c3-40ab-9da4-c3dbdcd754c4",
   "metadata": {},
   "outputs": [
    {
     "data": {
      "text/plain": [
       "(1, 2, 3, 5, 6, 7)"
      ]
     },
     "execution_count": 53,
     "metadata": {},
     "output_type": "execute_result"
    }
   ],
   "source": [
    "tuple1+tuple2"
   ]
  },
  {
   "cell_type": "code",
   "execution_count": null,
   "id": "bc677973-ba11-41c5-904c-80c6c059ecd3",
   "metadata": {},
   "outputs": [],
   "source": []
  },
  {
   "cell_type": "code",
   "execution_count": 55,
   "id": "187f0693-9179-4045-bd7d-ff94fa52e498",
   "metadata": {},
   "outputs": [
    {
     "name": "stdout",
     "output_type": "stream",
     "text": [
      "(0, 1, 1, 2, 3)\n"
     ]
    }
   ],
   "source": [
    "fib = (0,1,1)\n",
    "for i in range(2):\n",
    "    fib = fib + (fib[i+1] +fib [i+2],)\n",
    "print(fib)"
   ]
  },
  {
   "cell_type": "code",
   "execution_count": null,
   "id": "a57fcf6b-880b-45e5-82b3-44e2d544de6b",
   "metadata": {},
   "outputs": [],
   "source": []
  },
  {
   "cell_type": "code",
   "execution_count": 56,
   "id": "8ed4ca9c-591d-4336-b4c8-4f265938708e",
   "metadata": {},
   "outputs": [
    {
     "name": "stdin",
     "output_type": "stream",
     "text": [
      "enter values:  anshul\n"
     ]
    },
    {
     "name": "stdout",
     "output_type": "stream",
     "text": [
      " tuple is  ('a', 'n', 's', 'h', 'u', 'l')\n"
     ]
    }
   ],
   "source": [
    "a= input('enter values: ')\n",
    "b= tuple(a)\n",
    "print (' tuple is ',b)"
   ]
  },
  {
   "cell_type": "code",
   "execution_count": null,
   "id": "3ecd16ec-ca20-40f2-9968-6ce45cdd49fb",
   "metadata": {},
   "outputs": [],
   "source": []
  },
  {
   "cell_type": "code",
   "execution_count": 57,
   "id": "a90d619e-286e-49bc-801f-9559eb5662b4",
   "metadata": {},
   "outputs": [],
   "source": [
    "a = (1,2,3)"
   ]
  },
  {
   "cell_type": "code",
   "execution_count": 58,
   "id": "526c804d-cc3c-4bbd-ac22-50b3d09d78eb",
   "metadata": {},
   "outputs": [],
   "source": [
    "b= (5,6,7)"
   ]
  },
  {
   "cell_type": "code",
   "execution_count": 59,
   "id": "7eae1a69-90a7-4f9f-9988-2db8b45cb37c",
   "metadata": {},
   "outputs": [],
   "source": [
    "a,b = b,a "
   ]
  },
  {
   "cell_type": "code",
   "execution_count": 60,
   "id": "b934fba1-ad01-4472-92ed-9126504f48ff",
   "metadata": {},
   "outputs": [
    {
     "data": {
      "text/plain": [
       "(5, 6, 7)"
      ]
     },
     "execution_count": 60,
     "metadata": {},
     "output_type": "execute_result"
    }
   ],
   "source": [
    "a"
   ]
  },
  {
   "cell_type": "code",
   "execution_count": 61,
   "id": "4f0b254b-efa7-4883-8115-8df9e1bd675f",
   "metadata": {},
   "outputs": [
    {
     "data": {
      "text/plain": [
       "(1, 2, 3)"
      ]
     },
     "execution_count": 61,
     "metadata": {},
     "output_type": "execute_result"
    }
   ],
   "source": [
    "b"
   ]
  },
  {
   "cell_type": "code",
   "execution_count": null,
   "id": "99019dce-fb45-4fb2-ad00-2801bfcc16f9",
   "metadata": {},
   "outputs": [],
   "source": []
  },
  {
   "cell_type": "code",
   "execution_count": 63,
   "id": "abcf1108-8346-4951-9410-fa9eff6e04ce",
   "metadata": {},
   "outputs": [],
   "source": [
    "t = (4,6,7,8,9,0)"
   ]
  },
  {
   "cell_type": "code",
   "execution_count": 64,
   "id": "0e85c551-c16d-4f01-834d-be7760a5ba4c",
   "metadata": {},
   "outputs": [
    {
     "data": {
      "text/plain": [
       "(0, 9, 8, 7, 6, 4)"
      ]
     },
     "execution_count": 64,
     "metadata": {},
     "output_type": "execute_result"
    }
   ],
   "source": [
    "t[::-1]"
   ]
  },
  {
   "cell_type": "code",
   "execution_count": null,
   "id": "65f451ba-9b57-42f4-9765-8d50a2e3469c",
   "metadata": {},
   "outputs": [],
   "source": []
  },
  {
   "cell_type": "code",
   "execution_count": 65,
   "id": "db5cb920-8994-4319-8726-2d434f0b755a",
   "metadata": {},
   "outputs": [],
   "source": [
    "string_tuple=(\"my\", \"name\", \"is\", \"anshul\")"
   ]
  },
  {
   "cell_type": "code",
   "execution_count": 66,
   "id": "85bbfc5b-63d3-450d-95d6-d43d82ace11a",
   "metadata": {},
   "outputs": [],
   "source": [
    "longest_string = max(string_tuple, key=len)"
   ]
  },
  {
   "cell_type": "code",
   "execution_count": 67,
   "id": "97bde05c-7d07-4e8a-9a79-b9412190bba5",
   "metadata": {},
   "outputs": [
    {
     "name": "stdout",
     "output_type": "stream",
     "text": [
      "anshul\n"
     ]
    }
   ],
   "source": [
    "print(longest_string)"
   ]
  },
  {
   "cell_type": "code",
   "execution_count": null,
   "id": "2561dd70-03b1-42df-aa26-79c2a92ec69a",
   "metadata": {},
   "outputs": [],
   "source": []
  },
  {
   "cell_type": "code",
   "execution_count": 68,
   "id": "1e2396e8-03cf-4780-ac4a-e27c408bb2cb",
   "metadata": {},
   "outputs": [],
   "source": [
    "string_tuple = (\"my\", \"name\", \"is\", \"anshul\")"
   ]
  },
  {
   "cell_type": "code",
   "execution_count": 69,
   "id": "96f9769c-7a52-4160-88f4-72a695033fb7",
   "metadata": {},
   "outputs": [],
   "source": [
    "shortest_string = min(string_tuple, key =len)"
   ]
  },
  {
   "cell_type": "code",
   "execution_count": 70,
   "id": "155b1861-0c64-4baa-8d77-de748798cac6",
   "metadata": {},
   "outputs": [
    {
     "name": "stdout",
     "output_type": "stream",
     "text": [
      "my\n"
     ]
    }
   ],
   "source": [
    "print(shortest_string)"
   ]
  },
  {
   "cell_type": "code",
   "execution_count": null,
   "id": "ac6b0473-4b88-4a0b-9bf4-7dc5348d04b4",
   "metadata": {},
   "outputs": [],
   "source": []
  },
  {
   "cell_type": "code",
   "execution_count": 71,
   "id": "3cb3df0e-ba5b-4559-b44a-4c7932bb8d7e",
   "metadata": {},
   "outputs": [],
   "source": [
    "#set based problems"
   ]
  },
  {
   "cell_type": "code",
   "execution_count": 72,
   "id": "7969cdbe-4490-4da2-ba85-4391e1e3099b",
   "metadata": {},
   "outputs": [],
   "source": [
    "my_set= set()"
   ]
  },
  {
   "cell_type": "code",
   "execution_count": 73,
   "id": "0d1ef35b-e1c0-450e-bb80-5f66251d00a6",
   "metadata": {},
   "outputs": [],
   "source": [
    "my_set.add(1)\n",
    "my_set.add(2)\n",
    "my_set.add(3)\n",
    "my_set.add(4)\n",
    "my_set.add(5)"
   ]
  },
  {
   "cell_type": "code",
   "execution_count": 74,
   "id": "d117a86c-d192-4d84-a75c-6f3683f1e5d8",
   "metadata": {},
   "outputs": [
    {
     "name": "stdout",
     "output_type": "stream",
     "text": [
      "{1, 2, 3, 4, 5}\n"
     ]
    }
   ],
   "source": [
    "print(my_set)"
   ]
  },
  {
   "cell_type": "code",
   "execution_count": null,
   "id": "6ae4997b-fdc9-4d7b-9883-bf6c69a90745",
   "metadata": {},
   "outputs": [],
   "source": []
  },
  {
   "cell_type": "code",
   "execution_count": 75,
   "id": "cbd222e6-6adc-4151-8cab-b0ab9a1e60da",
   "metadata": {},
   "outputs": [],
   "source": [
    "set={1,2,3,4,5}"
   ]
  },
  {
   "cell_type": "code",
   "execution_count": 76,
   "id": "21d78672-8255-4474-9353-855030d3eaed",
   "metadata": {},
   "outputs": [],
   "source": [
    "set.add(6)"
   ]
  },
  {
   "cell_type": "code",
   "execution_count": 78,
   "id": "aa3ec5d6-a1d4-4be2-9b88-fa7287b508fc",
   "metadata": {},
   "outputs": [
    {
     "data": {
      "text/plain": [
       "{1, 2, 3, 4, 5, 6}"
      ]
     },
     "execution_count": 78,
     "metadata": {},
     "output_type": "execute_result"
    }
   ],
   "source": [
    "set"
   ]
  },
  {
   "cell_type": "code",
   "execution_count": null,
   "id": "f2d42e1c-7b79-45bf-b66a-5a5d1d99b367",
   "metadata": {},
   "outputs": [],
   "source": []
  },
  {
   "cell_type": "code",
   "execution_count": 80,
   "id": "0a89e844-1378-4d97-a99b-05ad36cc23a5",
   "metadata": {},
   "outputs": [
    {
     "data": {
      "text/plain": [
       "{1, 2, 3, 4, 5, 6}"
      ]
     },
     "execution_count": 80,
     "metadata": {},
     "output_type": "execute_result"
    }
   ],
   "source": [
    "set"
   ]
  },
  {
   "cell_type": "code",
   "execution_count": 81,
   "id": "26c688a3-d13e-40d8-a6e4-a14cca6c0e39",
   "metadata": {},
   "outputs": [],
   "source": [
    "set.remove(2)"
   ]
  },
  {
   "cell_type": "code",
   "execution_count": 82,
   "id": "c1f39e3e-bbb7-409d-829d-e09e2a94119c",
   "metadata": {},
   "outputs": [
    {
     "data": {
      "text/plain": [
       "{1, 3, 4, 5, 6}"
      ]
     },
     "execution_count": 82,
     "metadata": {},
     "output_type": "execute_result"
    }
   ],
   "source": [
    "set"
   ]
  },
  {
   "cell_type": "code",
   "execution_count": null,
   "id": "3863c159-3fa3-491c-9172-4e69417f0292",
   "metadata": {},
   "outputs": [],
   "source": []
  },
  {
   "cell_type": "code",
   "execution_count": 83,
   "id": "14d6fce8-c51d-4fcd-b67f-719fe5dfb90c",
   "metadata": {},
   "outputs": [
    {
     "name": "stdout",
     "output_type": "stream",
     "text": [
      "True\n"
     ]
    }
   ],
   "source": [
    "my_set = {'red', 'green', 'blue'}\n",
    "if 'red' in my_set:\n",
    "    print('red' in my_set)"
   ]
  },
  {
   "cell_type": "code",
   "execution_count": null,
   "id": "f29882d5-2251-437c-872d-5c60ed99087f",
   "metadata": {},
   "outputs": [],
   "source": []
  },
  {
   "cell_type": "code",
   "execution_count": 84,
   "id": "602e1d55-6c43-4895-8f57-1699117212bd",
   "metadata": {},
   "outputs": [
    {
     "name": "stdout",
     "output_type": "stream",
     "text": [
      "the length of my_set is: 7\n"
     ]
    }
   ],
   "source": [
    "my_set = {1,2,3,4,5,6,7}\n",
    "count = 0\n",
    "for i in my_set:\n",
    "    count = count+1\n",
    "print(\"the length of my_set is:\",count)    "
   ]
  },
  {
   "cell_type": "code",
   "execution_count": null,
   "id": "c8dcff02-a66f-49ba-8004-b13e7af5cf8d",
   "metadata": {},
   "outputs": [],
   "source": []
  },
  {
   "cell_type": "code",
   "execution_count": 85,
   "id": "4d35f0d1-53cd-4103-98fd-e001051f9687",
   "metadata": {},
   "outputs": [
    {
     "data": {
      "text/plain": [
       "{1, 3, 4, 5, 6}"
      ]
     },
     "execution_count": 85,
     "metadata": {},
     "output_type": "execute_result"
    }
   ],
   "source": [
    "set"
   ]
  },
  {
   "cell_type": "code",
   "execution_count": 86,
   "id": "e66ffd5e-fca4-42d0-b62e-792da45d81e1",
   "metadata": {},
   "outputs": [],
   "source": [
    "set.clear()"
   ]
  },
  {
   "cell_type": "code",
   "execution_count": 87,
   "id": "6e7722ba-0588-4d23-aba6-cdc55b00d921",
   "metadata": {},
   "outputs": [
    {
     "data": {
      "text/plain": [
       "set()"
      ]
     },
     "execution_count": 87,
     "metadata": {},
     "output_type": "execute_result"
    }
   ],
   "source": [
    "set"
   ]
  },
  {
   "cell_type": "code",
   "execution_count": null,
   "id": "f94d1cf2-8343-4eb4-8450-38f7638cb1ee",
   "metadata": {},
   "outputs": [],
   "source": []
  },
  {
   "cell_type": "code",
   "execution_count": 88,
   "id": "b72576c1-a13f-43d2-97ca-e4488cc934cc",
   "metadata": {},
   "outputs": [
    {
     "name": "stdout",
     "output_type": "stream",
     "text": [
      "0\n",
      "2\n",
      "4\n",
      "6\n",
      "8\n"
     ]
    }
   ],
   "source": [
    "for x in range (0,10):\n",
    "    if x%2==0:\n",
    "        print(x)"
   ]
  },
  {
   "cell_type": "code",
   "execution_count": null,
   "id": "f6bb22f0-8ab6-44f3-ab1a-f8429854c7a7",
   "metadata": {},
   "outputs": [],
   "source": []
  },
  {
   "cell_type": "code",
   "execution_count": 89,
   "id": "fd056816-c89f-4744-8d57-19f41ebcba15",
   "metadata": {},
   "outputs": [
    {
     "name": "stdout",
     "output_type": "stream",
     "text": [
      "1\n",
      "3\n",
      "5\n",
      "7\n",
      "9\n"
     ]
    }
   ],
   "source": [
    "for x in range (0,10):\n",
    "    if x%2!=0:\n",
    "        print(x)"
   ]
  },
  {
   "cell_type": "code",
   "execution_count": null,
   "id": "ea88bc62-15d1-4e4f-8163-c17b7f9bf8e8",
   "metadata": {},
   "outputs": [],
   "source": []
  },
  {
   "cell_type": "code",
   "execution_count": 90,
   "id": "6e523e5d-fa8d-4e72-b0ba-af7ea911a659",
   "metadata": {},
   "outputs": [],
   "source": [
    "set1 = {1,2,3,4}"
   ]
  },
  {
   "cell_type": "code",
   "execution_count": 92,
   "id": "944787d3-8b18-4b22-bc4e-70c6a0f77e8f",
   "metadata": {},
   "outputs": [],
   "source": [
    "set2 = {6,7,8,9}"
   ]
  },
  {
   "cell_type": "code",
   "execution_count": 93,
   "id": "e16ef315-e80c-4886-a824-78f32cfbc67e",
   "metadata": {},
   "outputs": [
    {
     "data": {
      "text/plain": [
       "{1, 2, 3, 4, 6, 7, 8, 9}"
      ]
     },
     "execution_count": 93,
     "metadata": {},
     "output_type": "execute_result"
    }
   ],
   "source": [
    "set1.union(set2)"
   ]
  },
  {
   "cell_type": "code",
   "execution_count": null,
   "id": "2c9ba4bf-4a6c-4fe1-ab07-9bef6fabeef1",
   "metadata": {},
   "outputs": [],
   "source": []
  },
  {
   "cell_type": "code",
   "execution_count": 94,
   "id": "1fc004b7-c3ed-4ca5-84d2-4737bed58912",
   "metadata": {},
   "outputs": [],
   "source": [
    "set1 = {1,2,3,4,5,6}"
   ]
  },
  {
   "cell_type": "code",
   "execution_count": 95,
   "id": "05f52ba9-a4c8-4f01-989f-2db22763de3e",
   "metadata": {},
   "outputs": [],
   "source": [
    "set2 = {4,5,6,7,8,9}"
   ]
  },
  {
   "cell_type": "code",
   "execution_count": 96,
   "id": "b4ddc6fd-5396-4a4c-adca-6938236186dd",
   "metadata": {},
   "outputs": [],
   "source": [
    "intersection_result = set1.intersection(set2)"
   ]
  },
  {
   "cell_type": "code",
   "execution_count": 97,
   "id": "ee05444d-0a18-4501-bd14-3d5a60247e40",
   "metadata": {},
   "outputs": [
    {
     "name": "stdout",
     "output_type": "stream",
     "text": [
      "{4, 5, 6}\n"
     ]
    }
   ],
   "source": [
    "print(intersection_result)"
   ]
  },
  {
   "cell_type": "code",
   "execution_count": null,
   "id": "e219bc2d-24e9-4ba9-997b-52876f78fbb9",
   "metadata": {},
   "outputs": [],
   "source": []
  },
  {
   "cell_type": "code",
   "execution_count": 98,
   "id": "e186d7e0-c797-400e-87c8-0718d3facd60",
   "metadata": {},
   "outputs": [],
   "source": [
    "set1 = {1,23,45,67,8,9}"
   ]
  },
  {
   "cell_type": "code",
   "execution_count": 99,
   "id": "58b747e9-a705-45eb-a5fb-8b25392ca0b8",
   "metadata": {},
   "outputs": [],
   "source": [
    "set2 = {5,6,7,89,6,5,3}"
   ]
  },
  {
   "cell_type": "code",
   "execution_count": 100,
   "id": "148a7d0a-907a-41ad-90c9-54e1bf3a296b",
   "metadata": {},
   "outputs": [],
   "source": [
    "difference_result = set1.difference(set2)"
   ]
  },
  {
   "cell_type": "code",
   "execution_count": 101,
   "id": "14b01d00-49e4-4898-a9e2-56af0a30e70c",
   "metadata": {},
   "outputs": [
    {
     "name": "stdout",
     "output_type": "stream",
     "text": [
      "{1, 67, 8, 9, 45, 23}\n"
     ]
    }
   ],
   "source": [
    "print(difference_result)"
   ]
  },
  {
   "cell_type": "code",
   "execution_count": null,
   "id": "def3aadf-a95b-4c65-9c9f-2d5af80a5d88",
   "metadata": {},
   "outputs": [],
   "source": []
  },
  {
   "cell_type": "code",
   "execution_count": 102,
   "id": "12b91a46-620c-4b0a-bbb8-d0dfd495925f",
   "metadata": {},
   "outputs": [
    {
     "data": {
      "text/plain": [
       "{1, 8, 9, 23, 45, 67}"
      ]
     },
     "execution_count": 102,
     "metadata": {},
     "output_type": "execute_result"
    }
   ],
   "source": [
    "set1"
   ]
  },
  {
   "cell_type": "code",
   "execution_count": 103,
   "id": "0712d5b1-d9ef-421f-befe-db92b4994aee",
   "metadata": {},
   "outputs": [
    {
     "data": {
      "text/plain": [
       "{3, 5, 6, 7, 89}"
      ]
     },
     "execution_count": 103,
     "metadata": {},
     "output_type": "execute_result"
    }
   ],
   "source": [
    "set2"
   ]
  },
  {
   "cell_type": "code",
   "execution_count": 106,
   "id": "404a8404-06a1-473c-bfb2-a044ccecbf24",
   "metadata": {},
   "outputs": [],
   "source": [
    "is_subset = set1.issubset(set2)"
   ]
  },
  {
   "cell_type": "code",
   "execution_count": 107,
   "id": "2145dcdf-e5b6-4882-9d5d-cb2447b0cc93",
   "metadata": {},
   "outputs": [
    {
     "name": "stdout",
     "output_type": "stream",
     "text": [
      "False\n"
     ]
    }
   ],
   "source": [
    "print(is_subset)"
   ]
  },
  {
   "cell_type": "code",
   "execution_count": null,
   "id": "c0465d12-0693-46bb-b67c-db5b4dc56d0f",
   "metadata": {},
   "outputs": [],
   "source": []
  },
  {
   "cell_type": "code",
   "execution_count": 108,
   "id": "69d55f11-50b9-469d-9f4d-01f92a8f8386",
   "metadata": {},
   "outputs": [
    {
     "data": {
      "text/plain": [
       "{1, 8, 9, 23, 45, 67}"
      ]
     },
     "execution_count": 108,
     "metadata": {},
     "output_type": "execute_result"
    }
   ],
   "source": [
    "set1"
   ]
  },
  {
   "cell_type": "code",
   "execution_count": 109,
   "id": "27da621b-5f9b-43c5-8158-1da30ab85a95",
   "metadata": {},
   "outputs": [
    {
     "data": {
      "text/plain": [
       "{3, 5, 6, 7, 89}"
      ]
     },
     "execution_count": 109,
     "metadata": {},
     "output_type": "execute_result"
    }
   ],
   "source": [
    "set2"
   ]
  },
  {
   "cell_type": "code",
   "execution_count": 110,
   "id": "5615a051-7b2b-4135-8143-676210af4a3e",
   "metadata": {},
   "outputs": [],
   "source": [
    "is_superset = set1.issuperset(set2)"
   ]
  },
  {
   "cell_type": "code",
   "execution_count": 111,
   "id": "33a45470-d186-4fb7-b5ba-87e13a675457",
   "metadata": {},
   "outputs": [
    {
     "name": "stdout",
     "output_type": "stream",
     "text": [
      "False\n"
     ]
    }
   ],
   "source": [
    "print(is_superset)"
   ]
  },
  {
   "cell_type": "code",
   "execution_count": null,
   "id": "30f91d89-5f84-4241-a3c8-e6d845cc28b9",
   "metadata": {},
   "outputs": [],
   "source": []
  },
  {
   "cell_type": "code",
   "execution_count": 112,
   "id": "000874c6-4e48-4889-814c-ab95f0566eeb",
   "metadata": {},
   "outputs": [],
   "source": [
    "s = {1,2,3,4,5}"
   ]
  },
  {
   "cell_type": "code",
   "execution_count": 114,
   "id": "d700f5a9-2ea1-4f93-802c-8a29a16ee213",
   "metadata": {},
   "outputs": [],
   "source": [
    "l =list(s)"
   ]
  },
  {
   "cell_type": "code",
   "execution_count": 115,
   "id": "1755f1c5-c6bd-4d59-b76f-97b7ac6ec037",
   "metadata": {},
   "outputs": [
    {
     "data": {
      "text/plain": [
       "[1, 2, 3, 4, 5]"
      ]
     },
     "execution_count": 115,
     "metadata": {},
     "output_type": "execute_result"
    }
   ],
   "source": [
    "l"
   ]
  },
  {
   "cell_type": "code",
   "execution_count": null,
   "id": "9fabc9ac-7f2c-4ebc-a80f-6a7dc1f1558f",
   "metadata": {},
   "outputs": [],
   "source": []
  },
  {
   "cell_type": "code",
   "execution_count": 116,
   "id": "509577d3-bd10-4de1-89f0-a5d89759a2bf",
   "metadata": {},
   "outputs": [
    {
     "data": {
      "text/plain": [
       "{1, 2, 3, 4, 5}"
      ]
     },
     "execution_count": 116,
     "metadata": {},
     "output_type": "execute_result"
    }
   ],
   "source": [
    "s"
   ]
  },
  {
   "cell_type": "code",
   "execution_count": 117,
   "id": "a11fbc94-1e88-4e45-94c9-411741904e4c",
   "metadata": {},
   "outputs": [],
   "source": [
    "s.remove(3)"
   ]
  },
  {
   "cell_type": "code",
   "execution_count": 118,
   "id": "5da6c345-c6ed-4320-9bb9-e15936b43b1d",
   "metadata": {},
   "outputs": [
    {
     "data": {
      "text/plain": [
       "{1, 2, 4, 5}"
      ]
     },
     "execution_count": 118,
     "metadata": {},
     "output_type": "execute_result"
    }
   ],
   "source": [
    "s"
   ]
  },
  {
   "cell_type": "code",
   "execution_count": null,
   "id": "5ffe2263-f9a4-4a1d-9e7f-b8c954d34742",
   "metadata": {},
   "outputs": [],
   "source": []
  },
  {
   "cell_type": "code",
   "execution_count": 119,
   "id": "e3ed5059-cc18-4f17-b932-aa0a7eb43860",
   "metadata": {},
   "outputs": [
    {
     "data": {
      "text/plain": [
       "{1, 2, 4, 5}"
      ]
     },
     "execution_count": 119,
     "metadata": {},
     "output_type": "execute_result"
    }
   ],
   "source": [
    "s"
   ]
  },
  {
   "cell_type": "code",
   "execution_count": 120,
   "id": "6c6558fa-b0a8-4ae6-8bbd-24a69b370fae",
   "metadata": {},
   "outputs": [
    {
     "data": {
      "text/plain": [
       "1"
      ]
     },
     "execution_count": 120,
     "metadata": {},
     "output_type": "execute_result"
    }
   ],
   "source": [
    "s.pop()"
   ]
  },
  {
   "cell_type": "code",
   "execution_count": 121,
   "id": "e3468d28-3208-45cb-92e1-39d330d223c7",
   "metadata": {},
   "outputs": [
    {
     "data": {
      "text/plain": [
       "{2, 4, 5}"
      ]
     },
     "execution_count": 121,
     "metadata": {},
     "output_type": "execute_result"
    }
   ],
   "source": [
    "s"
   ]
  },
  {
   "cell_type": "code",
   "execution_count": null,
   "id": "dd12cd1f-5ff5-41e7-aecd-299b440c9deb",
   "metadata": {},
   "outputs": [],
   "source": []
  },
  {
   "cell_type": "code",
   "execution_count": 122,
   "id": "46104769-7d24-48a4-8645-cc4c2ca65972",
   "metadata": {},
   "outputs": [],
   "source": [
    "set1 = {1,2,3,4}\n",
    "set2 = {5,6,7,8}"
   ]
  },
  {
   "cell_type": "code",
   "execution_count": 123,
   "id": "9d976287-3182-4489-a826-66d615f4501a",
   "metadata": {},
   "outputs": [
    {
     "name": "stdout",
     "output_type": "stream",
     "text": [
      "two sets have no common elements\n"
     ]
    }
   ],
   "source": [
    "common_elements = set1.intersection(set2)\n",
    "if not common_elements:\n",
    "    print(\"two sets have no common elements\")\n",
    "else:\n",
    "    print(\"two sets have common elements:\", common_elements)"
   ]
  },
  {
   "cell_type": "code",
   "execution_count": null,
   "id": "18975427-6a8c-4e45-a32d-fc9c682cc644",
   "metadata": {},
   "outputs": [],
   "source": []
  },
  {
   "cell_type": "code",
   "execution_count": 125,
   "id": "97677b4d-47dc-444c-92e7-15c8dff36192",
   "metadata": {},
   "outputs": [],
   "source": [
    "set1 = {1,2,3,4,5}"
   ]
  },
  {
   "cell_type": "code",
   "execution_count": 126,
   "id": "11b5cc62-1ad8-4f10-b73e-04d668b4909f",
   "metadata": {},
   "outputs": [],
   "source": [
    "set2 = {4,5,6,7,8}"
   ]
  },
  {
   "cell_type": "code",
   "execution_count": 127,
   "id": "104568e7-915f-43de-8db1-5effafd6a65a",
   "metadata": {},
   "outputs": [],
   "source": [
    "symmetric_difference = set1^set2"
   ]
  },
  {
   "cell_type": "code",
   "execution_count": 128,
   "id": "e42c0bc9-ee32-4b5d-ba3c-b9064550f749",
   "metadata": {},
   "outputs": [
    {
     "name": "stdout",
     "output_type": "stream",
     "text": [
      "{1, 2, 3, 6, 7, 8}\n"
     ]
    }
   ],
   "source": [
    "print(symmetric_difference)"
   ]
  },
  {
   "cell_type": "code",
   "execution_count": null,
   "id": "220979c9-9771-4e3d-bb5f-140f8212296b",
   "metadata": {},
   "outputs": [],
   "source": []
  },
  {
   "cell_type": "code",
   "execution_count": 129,
   "id": "dcfa5679-a89f-4122-abf4-53033c474064",
   "metadata": {},
   "outputs": [
    {
     "name": "stdout",
     "output_type": "stream",
     "text": [
      "ser1: {3, 4, 5}\n"
     ]
    }
   ],
   "source": [
    "set1 = {3,4,5}\n",
    "print(\"ser1:\",set1)"
   ]
  },
  {
   "cell_type": "code",
   "execution_count": 130,
   "id": "3a19f6ef-d6b1-4d52-8be4-8bfaab9c2e00",
   "metadata": {},
   "outputs": [
    {
     "name": "stdout",
     "output_type": "stream",
     "text": [
      "set2: {5, 6, 7}\n"
     ]
    }
   ],
   "source": [
    "set2 = {5,6,7}\n",
    "print(\"set2:\",set2)"
   ]
  },
  {
   "cell_type": "code",
   "execution_count": 131,
   "id": "dd14d291-83c5-41de-93a0-2fb0a4ffaaf5",
   "metadata": {},
   "outputs": [],
   "source": [
    "updated_set = set.update(set2)\n"
   ]
  },
  {
   "cell_type": "code",
   "execution_count": 132,
   "id": "61fef84a-a6b3-4ca7-a4f4-f399afcf29e0",
   "metadata": {},
   "outputs": [
    {
     "name": "stdout",
     "output_type": "stream",
     "text": [
      "updated_set: {3, 4, 5}\n"
     ]
    }
   ],
   "source": [
    "print(\"updated_set:\",set1)"
   ]
  },
  {
   "cell_type": "code",
   "execution_count": null,
   "id": "ab627d8f-27a5-47cb-9283-ba3651a03a1d",
   "metadata": {},
   "outputs": [],
   "source": []
  },
  {
   "cell_type": "code",
   "execution_count": 133,
   "id": "3c749eea-dd95-488c-a1ff-a07bc4a0ec70",
   "metadata": {},
   "outputs": [
    {
     "data": {
      "text/plain": [
       "{3, 4, 5}"
      ]
     },
     "execution_count": 133,
     "metadata": {},
     "output_type": "execute_result"
    }
   ],
   "source": [
    "set1"
   ]
  },
  {
   "cell_type": "code",
   "execution_count": 134,
   "id": "03c8bb6e-7434-417d-bd90-5df84ab5a2a6",
   "metadata": {},
   "outputs": [
    {
     "data": {
      "text/plain": [
       "{5, 6, 7}"
      ]
     },
     "execution_count": 134,
     "metadata": {},
     "output_type": "execute_result"
    }
   ],
   "source": [
    "set2"
   ]
  },
  {
   "cell_type": "code",
   "execution_count": 135,
   "id": "8f1c246c-4687-4be2-be91-58fe79fb24f1",
   "metadata": {},
   "outputs": [
    {
     "name": "stdout",
     "output_type": "stream",
     "text": [
      "two sets are not identical\n"
     ]
    }
   ],
   "source": [
    "if set1==set2:\n",
    "    print(\"two sets are identical\")\n",
    "else:\n",
    "    print(\"two sets are not identical\")"
   ]
  },
  {
   "cell_type": "code",
   "execution_count": null,
   "id": "5e841e14-231b-49ce-b644-1499fc06730a",
   "metadata": {},
   "outputs": [],
   "source": []
  },
  {
   "cell_type": "code",
   "execution_count": 143,
   "id": "7a84e656-966b-4f95-958f-2d1934f80406",
   "metadata": {},
   "outputs": [],
   "source": [
    "my_frozenset = {1,2,3,4,5}"
   ]
  },
  {
   "cell_type": "code",
   "execution_count": 145,
   "id": "7cb19f2a-d2a4-453d-b1df-b9ff447c15ea",
   "metadata": {},
   "outputs": [
    {
     "name": "stdout",
     "output_type": "stream",
     "text": [
      "{1, 2, 3, 4, 5}\n"
     ]
    }
   ],
   "source": [
    "print(my_frozenset)"
   ]
  },
  {
   "cell_type": "code",
   "execution_count": null,
   "id": "4f018e0c-0e97-4605-9941-ee2e1d07408f",
   "metadata": {},
   "outputs": [],
   "source": []
  },
  {
   "cell_type": "code",
   "execution_count": 146,
   "id": "bc116337-6ac7-48f5-914d-7dcfc66cb985",
   "metadata": {},
   "outputs": [
    {
     "data": {
      "text/plain": [
       "{3, 4, 5}"
      ]
     },
     "execution_count": 146,
     "metadata": {},
     "output_type": "execute_result"
    }
   ],
   "source": [
    "set1"
   ]
  },
  {
   "cell_type": "code",
   "execution_count": 147,
   "id": "41edc0ba-e3c2-4e88-b154-ca6e6d98fa0a",
   "metadata": {},
   "outputs": [
    {
     "data": {
      "text/plain": [
       "{5, 6, 7}"
      ]
     },
     "execution_count": 147,
     "metadata": {},
     "output_type": "execute_result"
    }
   ],
   "source": [
    "set2"
   ]
  },
  {
   "cell_type": "code",
   "execution_count": 148,
   "id": "a1eb76fe-9ab3-4a26-b7a7-402b126d2cf9",
   "metadata": {},
   "outputs": [],
   "source": [
    "is_disjoint = set1.isdisjoint(set2)"
   ]
  },
  {
   "cell_type": "code",
   "execution_count": 149,
   "id": "851c6fb0-a8d7-49b5-a671-a08bc03924b7",
   "metadata": {},
   "outputs": [
    {
     "name": "stdout",
     "output_type": "stream",
     "text": [
      "False\n"
     ]
    }
   ],
   "source": [
    "print(is_disjoint)"
   ]
  },
  {
   "cell_type": "code",
   "execution_count": null,
   "id": "c725b3c2-3695-4193-88e3-5eeaf8a41ea1",
   "metadata": {},
   "outputs": [],
   "source": []
  },
  {
   "cell_type": "code",
   "execution_count": 151,
   "id": "33dbfb22-56d1-4e7b-8b74-cc92c797d074",
   "metadata": {},
   "outputs": [
    {
     "name": "stdout",
     "output_type": "stream",
     "text": [
      "76\n"
     ]
    }
   ],
   "source": [
    "import random \n",
    "a = random.randint(1,100)\n",
    "print(a)"
   ]
  },
  {
   "cell_type": "code",
   "execution_count": null,
   "id": "32beb7ab-8638-4822-b015-45128c49d382",
   "metadata": {},
   "outputs": [],
   "source": []
  },
  {
   "cell_type": "code",
   "execution_count": 152,
   "id": "606ce33b-d25e-46a8-835d-2314ec03f5bc",
   "metadata": {},
   "outputs": [],
   "source": [
    "set1 = {2,3,4,5,6}"
   ]
  },
  {
   "cell_type": "code",
   "execution_count": 153,
   "id": "7adff2bd-563b-48f8-8833-1c2b047a0e29",
   "metadata": {},
   "outputs": [],
   "source": [
    "set2 = {1,7,8,9,10}"
   ]
  },
  {
   "cell_type": "code",
   "execution_count": 154,
   "id": "5a293fca-a9b1-4891-8f63-21aa95d01803",
   "metadata": {},
   "outputs": [],
   "source": [
    "frozen_set1 = frozenset(set1)"
   ]
  },
  {
   "cell_type": "code",
   "execution_count": 155,
   "id": "c0b25b56-6ee6-49b0-8c35-eab2665605ae",
   "metadata": {},
   "outputs": [],
   "source": [
    "frozen_set2 = frozenset(set2)"
   ]
  },
  {
   "cell_type": "code",
   "execution_count": 156,
   "id": "05a05021-aed1-4d51-9a74-2cf121c80fb4",
   "metadata": {},
   "outputs": [],
   "source": [
    "nested_set = (frozen_set1 , frozen_set2)"
   ]
  },
  {
   "cell_type": "code",
   "execution_count": 157,
   "id": "2ac92278-2733-4c50-9346-d62d7e03375a",
   "metadata": {},
   "outputs": [
    {
     "name": "stdout",
     "output_type": "stream",
     "text": [
      "(frozenset({2, 3, 4, 5, 6}), frozenset({1, 7, 8, 9, 10}))\n"
     ]
    }
   ],
   "source": [
    "print(nested_set)"
   ]
  },
  {
   "cell_type": "code",
   "execution_count": null,
   "id": "50935c03-be8d-4a85-83b1-6e456a90af51",
   "metadata": {},
   "outputs": [],
   "source": []
  },
  {
   "cell_type": "code",
   "execution_count": 158,
   "id": "5827c79a-c487-42a6-b249-08aaee12ab35",
   "metadata": {},
   "outputs": [
    {
     "data": {
      "text/plain": [
       "{2, 3, 4, 5, 6}"
      ]
     },
     "execution_count": 158,
     "metadata": {},
     "output_type": "execute_result"
    }
   ],
   "source": [
    "set1"
   ]
  },
  {
   "cell_type": "code",
   "execution_count": 159,
   "id": "50bb2d74-8669-47a3-a0cb-e3ba5a1c4836",
   "metadata": {},
   "outputs": [],
   "source": [
    "set1.discard(4)"
   ]
  },
  {
   "cell_type": "code",
   "execution_count": 160,
   "id": "81d25904-b4a1-4984-81f5-7262a474553d",
   "metadata": {},
   "outputs": [
    {
     "data": {
      "text/plain": [
       "{2, 3, 5, 6}"
      ]
     },
     "execution_count": 160,
     "metadata": {},
     "output_type": "execute_result"
    }
   ],
   "source": [
    "set1"
   ]
  },
  {
   "cell_type": "code",
   "execution_count": null,
   "id": "7ba81c00-48b4-478a-bd82-f8e2c77dc66b",
   "metadata": {},
   "outputs": [],
   "source": []
  },
  {
   "cell_type": "code",
   "execution_count": 165,
   "id": "094d8683-0d36-4bb7-87ae-7d11ae3c8a77",
   "metadata": {},
   "outputs": [
    {
     "data": {
      "text/plain": [
       "{1, 2, 3, 4, 5, 6, 7}"
      ]
     },
     "execution_count": 165,
     "metadata": {},
     "output_type": "execute_result"
    }
   ],
   "source": [
    "set"
   ]
  },
  {
   "cell_type": "code",
   "execution_count": 166,
   "id": "835d1846-57a9-4ccb-85b0-d14e9b979e88",
   "metadata": {},
   "outputs": [
    {
     "name": "stdout",
     "output_type": "stream",
     "text": [
      "7\n"
     ]
    }
   ],
   "source": [
    "print(max(set))"
   ]
  },
  {
   "cell_type": "code",
   "execution_count": 167,
   "id": "c74a5485-389a-4012-b576-c7442d7255c0",
   "metadata": {},
   "outputs": [
    {
     "name": "stdout",
     "output_type": "stream",
     "text": [
      "1\n"
     ]
    }
   ],
   "source": [
    "print(min(set))"
   ]
  },
  {
   "cell_type": "code",
   "execution_count": null,
   "id": "b8fad676-cade-4006-9279-6eadd08e5547",
   "metadata": {},
   "outputs": [],
   "source": []
  },
  {
   "cell_type": "code",
   "execution_count": 168,
   "id": "5a394696-4545-476f-9e53-d4e68465aef9",
   "metadata": {},
   "outputs": [
    {
     "name": "stdout",
     "output_type": "stream",
     "text": [
      "0\n",
      "1\n"
     ]
    },
    {
     "name": "stdin",
     "output_type": "stream",
     "text": [
      "upto which element: 5\n"
     ]
    },
    {
     "name": "stdout",
     "output_type": "stream",
     "text": [
      "1\n",
      "2\n",
      "3\n",
      "5\n"
     ]
    }
   ],
   "source": [
    "first = 0 \n",
    "second = 1\n",
    "print(first)\n",
    "print(second)\n",
    "N = int(input('upto which element:'))\n",
    "for a in range (1,N):\n",
    "    third = first + second \n",
    "    print(third)\n",
    "    first,second = second,third"
   ]
  },
  {
   "cell_type": "code",
   "execution_count": null,
   "id": "ee921918-5493-40ba-b448-acebbbeb95aa",
   "metadata": {},
   "outputs": [],
   "source": []
  },
  {
   "cell_type": "code",
   "execution_count": 169,
   "id": "01322fab-6b28-46a6-8945-b9cf30036aff",
   "metadata": {},
   "outputs": [],
   "source": [
    "set1 = { 1,2,3,4,5,6,7}"
   ]
  },
  {
   "cell_type": "code",
   "execution_count": 170,
   "id": "a050bcfe-4bed-4145-9ea0-dc13bf900d01",
   "metadata": {},
   "outputs": [],
   "source": [
    "set2 = {4,5,6,7,8,9,10}\n"
   ]
  },
  {
   "cell_type": "code",
   "execution_count": 171,
   "id": "fe6ccf2f-4d85-42e8-b15a-8e469f2173b7",
   "metadata": {},
   "outputs": [
    {
     "data": {
      "text/plain": [
       "False"
      ]
     },
     "execution_count": 171,
     "metadata": {},
     "output_type": "execute_result"
    }
   ],
   "source": [
    "set1.issubset(set2)"
   ]
  },
  {
   "cell_type": "code",
   "execution_count": null,
   "id": "178709f3-c186-4fce-8060-70f58d8837b1",
   "metadata": {},
   "outputs": [],
   "source": []
  },
  {
   "cell_type": "code",
   "execution_count": 172,
   "id": "7934d787-3c31-4723-be82-a63219ddd27c",
   "metadata": {},
   "outputs": [
    {
     "data": {
      "text/plain": [
       "{1, 2, 3, 4, 5, 6, 7}"
      ]
     },
     "execution_count": 172,
     "metadata": {},
     "output_type": "execute_result"
    }
   ],
   "source": [
    "set1"
   ]
  },
  {
   "cell_type": "code",
   "execution_count": 173,
   "id": "f67b4830-6ae5-4431-96d4-c3bbff76e2ba",
   "metadata": {},
   "outputs": [
    {
     "data": {
      "text/plain": [
       "{4, 5, 6, 7, 8, 9, 10}"
      ]
     },
     "execution_count": 173,
     "metadata": {},
     "output_type": "execute_result"
    }
   ],
   "source": [
    "set2"
   ]
  },
  {
   "cell_type": "code",
   "execution_count": 174,
   "id": "77bb9194-2f3b-4e86-82ec-224c8e996c0b",
   "metadata": {},
   "outputs": [],
   "source": [
    "set3 = {34,5,6,7,8,53,2}"
   ]
  },
  {
   "cell_type": "code",
   "execution_count": null,
   "id": "828c1764-43cd-4f76-9358-8a6e58306ab1",
   "metadata": {},
   "outputs": [],
   "source": [
    "s"
   ]
  }
 ],
 "metadata": {
  "kernelspec": {
   "display_name": "Python 3 (ipykernel)",
   "language": "python",
   "name": "python3"
  },
  "language_info": {
   "codemirror_mode": {
    "name": "ipython",
    "version": 3
   },
   "file_extension": ".py",
   "mimetype": "text/x-python",
   "name": "python",
   "nbconvert_exporter": "python",
   "pygments_lexer": "ipython3",
   "version": "3.10.8"
  }
 },
 "nbformat": 4,
 "nbformat_minor": 5
}
